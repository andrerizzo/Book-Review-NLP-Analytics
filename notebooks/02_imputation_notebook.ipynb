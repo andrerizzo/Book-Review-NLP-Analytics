{
 "cells": [
  {
   "cell_type": "markdown",
   "metadata": {},
   "source": [
    "# Imputação de Dados\n",
    "\n",
    "### Autor: André Rizzo\n",
    "\n",
    "\n",
    "Notebook para enriquecimento de dados via Open Library API"
   ]
  },
  {
   "cell_type": "markdown",
   "metadata": {},
   "source": [
    "### Carregar Bibliotecas"
   ]
  },
  {
   "cell_type": "code",
   "execution_count": 1,
   "metadata": {},
   "outputs": [],
   "source": [
    "import pandas as pd\n",
    "import numpy as np\n",
    "import sys\n",
    "import os\n",
    "\n",
    "# Adiciona a raiz do projeto ao sys.path\n",
    "sys.path.append(os.path.abspath(\"..\"))\n",
    "\n",
    "# Import do módulo de imputação\n",
    "from src.preprocessing.data_imputation import (\n",
    "    executar_pipeline_imputacao,\n",
    "    identificar_registros_faltantes,\n",
    "    executa_imputacao,\n",
    "    aplicar_imputacoes\n",
    ")"
   ]
  },
  {
   "cell_type": "markdown",
   "metadata": {},
   "source": [
    "### Carregar Datasets Processados"
   ]
  },
  {
   "cell_type": "code",
   "execution_count": 15,
   "metadata": {},
   "outputs": [
    {
     "name": "stdout",
     "output_type": "stream",
     "text": [
      "   Datasets carregados:\n",
      "   books_data: (12922, 15)\n",
      "   books_rating: (299748, 10)\n"
     ]
    }
   ],
   "source": [
    "# Carregar dados já processados do EDA\n",
    "books_data = pd.read_parquet('../data/processed/books_data_processed.parquet')\n",
    "books_rating = pd.read_parquet('../data/processed/books_rating_processed.parquet')\n",
    "\n",
    "print(\"   Datasets carregados:\")\n",
    "print(f\"   books_data: {books_data.shape}\")\n",
    "print(f\"   books_rating: {books_rating.shape}\")"
   ]
  },
  {
   "cell_type": "code",
   "execution_count": 16,
   "metadata": {},
   "outputs": [
    {
     "data": {
      "application/vnd.microsoft.datawrangler.viewer.v0+json": {
       "columns": [
        {
         "name": "index",
         "rawType": "int64",
         "type": "integer"
        },
        {
         "name": "Title",
         "rawType": "object",
         "type": "string"
        },
        {
         "name": "description",
         "rawType": "object",
         "type": "string"
        },
        {
         "name": "authors",
         "rawType": "object",
         "type": "string"
        },
        {
         "name": "image",
         "rawType": "object",
         "type": "string"
        },
        {
         "name": "previewLink",
         "rawType": "object",
         "type": "string"
        },
        {
         "name": "publisher",
         "rawType": "object",
         "type": "string"
        },
        {
         "name": "publishedDate",
         "rawType": "datetime64[ns]",
         "type": "datetime"
        },
        {
         "name": "infoLink",
         "rawType": "object",
         "type": "string"
        },
        {
         "name": "categories",
         "rawType": "object",
         "type": "string"
        },
        {
         "name": "ratingsCount",
         "rawType": "float64",
         "type": "float"
        },
        {
         "name": "Title_padrao",
         "rawType": "object",
         "type": "string"
        },
        {
         "name": "authors_padrao",
         "rawType": "object",
         "type": "string"
        },
        {
         "name": "publisher_padrao",
         "rawType": "object",
         "type": "string"
        },
        {
         "name": "categories_padrao",
         "rawType": "object",
         "type": "string"
        },
        {
         "name": "publishedDate_padrao",
         "rawType": "float64",
         "type": "float"
        }
       ],
       "ref": "bc282588-be7c-48f4-9849-80fd5bfd6b93",
       "rows": [
        [
         "0",
         "License to Laugh",
         "Grade level: 1, 2, 3, 4, 5, 6, 7, 8, 9, 10, 11, 12, k, p, e, i, s, t.",
         "['Richard A. Shade']",
         "http://books.google.com/books/content?id=VuNX4Sql51oC&printsec=frontcover&img=1&zoom=1&edge=curl&source=gbs_api",
         "http://books.google.com/books?id=VuNX4Sql51oC&pg=PR18&dq=License+to+Laugh&hl=&cd=1&source=gbs_api",
         "Libraries Unlimited",
         "1996-01-01 00:00:00",
         "https://play.google.com/store/books/details?id=VuNX4Sql51oC&source=gbs_api",
         "['Education']",
         "2.0",
         "License to Laugh",
         "richard a. shade",
         "libraries unlimited",
         "education",
         "1996.0"
        ],
        [
         "1",
         "Motown and Didi (Polk Street Special)",
         "Motown and Didi, two teenage loners in Harlem, become allies in a fight against Touchy, the drug dealer whose dope is destroying Didi's brother, and find themselves falling in love with each other.",
         "['Walter Dean Myers']",
         "http://books.google.com/books/content?id=qcbXAAAAMAAJ&printsec=frontcover&img=1&zoom=1&source=gbs_api",
         "http://books.google.nl/books?id=qcbXAAAAMAAJ&q=Motown+and+Didi+(Polk+Street+Special)&dq=Motown+and+Didi+(Polk+Street+Special)&hl=&cd=1&source=gbs_api",
         "Laurel Leaf",
         "1987-01-01 00:00:00",
         "http://books.google.nl/books?id=qcbXAAAAMAAJ&dq=Motown+and+Didi+(Polk+Street+Special)&hl=&source=gbs_api",
         "['Juvenile Fiction']",
         "1.0",
         "Motown and Didi (Polk Street Special)",
         "walter dean myers",
         "laurel leaf",
         "juvenile fiction",
         "1987.0"
        ],
        [
         "2",
         "The FBI-KGB War: A Special Agent's Story",
         "The names, we sometimes say, have been changed \"to protect the innocent\". As regards those agents in KGB networks in the U.S. during and following World War II, their presence and their deeds (or misdeeds) were known, but their names were not. The FBI-KGB War is the exciting, true (which often really is stranger than fiction), and authentic story of how those names became known and how the not-so-innocent persons to whom those names belonged were finally called to account. Following World War II, FBI Special Agent Robert J. Lamphere set out to uncover the extensive American networks of the KGB. Lamphere used a large file of secret Russian messages intercepted during the war. The FBI-KGB War is the detailed (but never boring) story of how those messages were finally decoded and made to reveal their secrets, secrets that led to persons with such now-infamous names as Judith Coplon, Klaus Fuchs, Harry Gold, and Ethel and Julius Rosenberg.",
         "['Robert J. Lamphere', 'Tom Shachtman']",
         "http://books.google.com/books/content?id=IB_ShD9fTcsC&printsec=frontcover&img=1&zoom=1&edge=curl&source=gbs_api",
         "http://books.google.com/books?id=IB_ShD9fTcsC&printsec=frontcover&dq=The+FBI-KGB+War:+A+Special+Agent%27s+Story&hl=&cd=1&source=gbs_api",
         "Mercer University Press",
         "1995-01-01 00:00:00",
         "https://play.google.com/store/books/details?id=IB_ShD9fTcsC&source=gbs_api",
         "['History']",
         "1.0",
         "The FBI-KGB War: A Special Agent's Story",
         "robert j. lamphere, tom shachtman",
         "mercer university press",
         "history",
         "1995.0"
        ],
        [
         "3",
         "Captain Cook's World: Maps of the Life and Voyages of James Cook RN",
         "James Cook, sailor, surveyor, cartographer, and explorer, was born in 1728 in Yorkshire. In the course of his illustrious career, he sailed into every ocean and was one of the first, if not the first, British explorers to set foot on most of the world's major continents. He was also the first to cross both the Arctic and Antarctic Circles. Captain Cook's World is an atlas, chronology, and biography of the life and voyages of this celebrated explorer. A set of 128 specially drawn maps and accompanying text give a detailed overview of his life, including his early years in England, his time in the North Sea coal trade and with the Royal Navy in Canada, and his three great voyages around the world in HMB Endeavour and HMS Resolution. Included on the maps are locations visited, named, or surveyed by Cook; the routes of his voyages; and sites that have been marked in his honor, such as monuments. Based on meticulous scholarship but aimed at a general audience, Captain Cook's World is a fascinating and accessible record of Cook's life and travels.",
         "['John Robson']",
         "http://books.google.com/books/content?id=7udsQgAACAAJ&printsec=frontcover&img=1&zoom=1&source=gbs_api",
         "http://books.google.com/books?id=7udsQgAACAAJ&dq=Captain+Cook%27s+World:+Maps+of+the+Life+and+Voyages+of+James+Cook+RN&hl=&cd=1&source=gbs_api",
         "Seattle : University of Washington Press",
         "2000-01-01 00:00:00",
         "http://books.google.com/books?id=7udsQgAACAAJ&dq=Captain+Cook%27s+World:+Maps+of+the+Life+and+Voyages+of+James+Cook+RN&hl=&source=gbs_api",
         "['Reference']",
         "1.0",
         "Captain Cook's World: Maps of the Life and Voyages of James Cook RN",
         "john robson",
         "seattle university of washington press",
         "reference",
         "2000.0"
        ],
        [
         "4",
         "Mary Magdalene: A Biography",
         "Explores Mary Magdalene's key role in the ministry of Jesus and the development of early Christianity, tracing the changing images of Mary and the legends surrounding her and exploring why the Church sought to marginalize her significance.",
         "['Bruce Chilton']",
         "http://books.google.com/books/content?id=d7feX5LOMfoC&printsec=frontcover&img=1&zoom=1&edge=curl&source=gbs_api",
         "http://books.google.com/books?id=d7feX5LOMfoC&printsec=frontcover&dq=Mary+Magdalene:+A+Biography&hl=&cd=1&source=gbs_api",
         "Image Books",
         "2006-01-01 00:00:00",
         "http://books.google.com/books?id=d7feX5LOMfoC&dq=Mary+Magdalene:+A+Biography&hl=&source=gbs_api",
         "['Biography & Autobiography']",
         "2.0",
         "Mary Magdalene: A Biography",
         "bruce chilton",
         "image books",
         "biography & autobiography",
         "2006.0"
        ]
       ],
       "shape": {
        "columns": 15,
        "rows": 5
       }
      },
      "text/html": [
       "<div>\n",
       "<style scoped>\n",
       "    .dataframe tbody tr th:only-of-type {\n",
       "        vertical-align: middle;\n",
       "    }\n",
       "\n",
       "    .dataframe tbody tr th {\n",
       "        vertical-align: top;\n",
       "    }\n",
       "\n",
       "    .dataframe thead th {\n",
       "        text-align: right;\n",
       "    }\n",
       "</style>\n",
       "<table border=\"1\" class=\"dataframe\">\n",
       "  <thead>\n",
       "    <tr style=\"text-align: right;\">\n",
       "      <th></th>\n",
       "      <th>Title</th>\n",
       "      <th>description</th>\n",
       "      <th>authors</th>\n",
       "      <th>image</th>\n",
       "      <th>previewLink</th>\n",
       "      <th>publisher</th>\n",
       "      <th>publishedDate</th>\n",
       "      <th>infoLink</th>\n",
       "      <th>categories</th>\n",
       "      <th>ratingsCount</th>\n",
       "      <th>Title_padrao</th>\n",
       "      <th>authors_padrao</th>\n",
       "      <th>publisher_padrao</th>\n",
       "      <th>categories_padrao</th>\n",
       "      <th>publishedDate_padrao</th>\n",
       "    </tr>\n",
       "  </thead>\n",
       "  <tbody>\n",
       "    <tr>\n",
       "      <th>0</th>\n",
       "      <td>License to Laugh</td>\n",
       "      <td>Grade level: 1, 2, 3, 4, 5, 6, 7, 8, 9, 10, 11...</td>\n",
       "      <td>['Richard A. Shade']</td>\n",
       "      <td>http://books.google.com/books/content?id=VuNX4...</td>\n",
       "      <td>http://books.google.com/books?id=VuNX4Sql51oC&amp;...</td>\n",
       "      <td>Libraries Unlimited</td>\n",
       "      <td>1996-01-01</td>\n",
       "      <td>https://play.google.com/store/books/details?id...</td>\n",
       "      <td>['Education']</td>\n",
       "      <td>2.0</td>\n",
       "      <td>License to Laugh</td>\n",
       "      <td>richard a. shade</td>\n",
       "      <td>libraries unlimited</td>\n",
       "      <td>education</td>\n",
       "      <td>1996.0</td>\n",
       "    </tr>\n",
       "    <tr>\n",
       "      <th>1</th>\n",
       "      <td>Motown and Didi (Polk Street Special)</td>\n",
       "      <td>Motown and Didi, two teenage loners in Harlem,...</td>\n",
       "      <td>['Walter Dean Myers']</td>\n",
       "      <td>http://books.google.com/books/content?id=qcbXA...</td>\n",
       "      <td>http://books.google.nl/books?id=qcbXAAAAMAAJ&amp;q...</td>\n",
       "      <td>Laurel Leaf</td>\n",
       "      <td>1987-01-01</td>\n",
       "      <td>http://books.google.nl/books?id=qcbXAAAAMAAJ&amp;d...</td>\n",
       "      <td>['Juvenile Fiction']</td>\n",
       "      <td>1.0</td>\n",
       "      <td>Motown and Didi (Polk Street Special)</td>\n",
       "      <td>walter dean myers</td>\n",
       "      <td>laurel leaf</td>\n",
       "      <td>juvenile fiction</td>\n",
       "      <td>1987.0</td>\n",
       "    </tr>\n",
       "    <tr>\n",
       "      <th>2</th>\n",
       "      <td>The FBI-KGB War: A Special Agent's Story</td>\n",
       "      <td>The names, we sometimes say, have been changed...</td>\n",
       "      <td>['Robert J. Lamphere', 'Tom Shachtman']</td>\n",
       "      <td>http://books.google.com/books/content?id=IB_Sh...</td>\n",
       "      <td>http://books.google.com/books?id=IB_ShD9fTcsC&amp;...</td>\n",
       "      <td>Mercer University Press</td>\n",
       "      <td>1995-01-01</td>\n",
       "      <td>https://play.google.com/store/books/details?id...</td>\n",
       "      <td>['History']</td>\n",
       "      <td>1.0</td>\n",
       "      <td>The FBI-KGB War: A Special Agent's Story</td>\n",
       "      <td>robert j. lamphere, tom shachtman</td>\n",
       "      <td>mercer university press</td>\n",
       "      <td>history</td>\n",
       "      <td>1995.0</td>\n",
       "    </tr>\n",
       "    <tr>\n",
       "      <th>3</th>\n",
       "      <td>Captain Cook's World: Maps of the Life and Voy...</td>\n",
       "      <td>James Cook, sailor, surveyor, cartographer, an...</td>\n",
       "      <td>['John Robson']</td>\n",
       "      <td>http://books.google.com/books/content?id=7udsQ...</td>\n",
       "      <td>http://books.google.com/books?id=7udsQgAACAAJ&amp;...</td>\n",
       "      <td>Seattle : University of Washington Press</td>\n",
       "      <td>2000-01-01</td>\n",
       "      <td>http://books.google.com/books?id=7udsQgAACAAJ&amp;...</td>\n",
       "      <td>['Reference']</td>\n",
       "      <td>1.0</td>\n",
       "      <td>Captain Cook's World: Maps of the Life and Voy...</td>\n",
       "      <td>john robson</td>\n",
       "      <td>seattle university of washington press</td>\n",
       "      <td>reference</td>\n",
       "      <td>2000.0</td>\n",
       "    </tr>\n",
       "    <tr>\n",
       "      <th>4</th>\n",
       "      <td>Mary Magdalene: A Biography</td>\n",
       "      <td>Explores Mary Magdalene's key role in the mini...</td>\n",
       "      <td>['Bruce Chilton']</td>\n",
       "      <td>http://books.google.com/books/content?id=d7feX...</td>\n",
       "      <td>http://books.google.com/books?id=d7feX5LOMfoC&amp;...</td>\n",
       "      <td>Image Books</td>\n",
       "      <td>2006-01-01</td>\n",
       "      <td>http://books.google.com/books?id=d7feX5LOMfoC&amp;...</td>\n",
       "      <td>['Biography &amp; Autobiography']</td>\n",
       "      <td>2.0</td>\n",
       "      <td>Mary Magdalene: A Biography</td>\n",
       "      <td>bruce chilton</td>\n",
       "      <td>image books</td>\n",
       "      <td>biography &amp; autobiography</td>\n",
       "      <td>2006.0</td>\n",
       "    </tr>\n",
       "  </tbody>\n",
       "</table>\n",
       "</div>"
      ],
      "text/plain": [
       "                                               Title  \\\n",
       "0                                   License to Laugh   \n",
       "1              Motown and Didi (Polk Street Special)   \n",
       "2           The FBI-KGB War: A Special Agent's Story   \n",
       "3  Captain Cook's World: Maps of the Life and Voy...   \n",
       "4                        Mary Magdalene: A Biography   \n",
       "\n",
       "                                         description  \\\n",
       "0  Grade level: 1, 2, 3, 4, 5, 6, 7, 8, 9, 10, 11...   \n",
       "1  Motown and Didi, two teenage loners in Harlem,...   \n",
       "2  The names, we sometimes say, have been changed...   \n",
       "3  James Cook, sailor, surveyor, cartographer, an...   \n",
       "4  Explores Mary Magdalene's key role in the mini...   \n",
       "\n",
       "                                   authors  \\\n",
       "0                     ['Richard A. Shade']   \n",
       "1                    ['Walter Dean Myers']   \n",
       "2  ['Robert J. Lamphere', 'Tom Shachtman']   \n",
       "3                          ['John Robson']   \n",
       "4                        ['Bruce Chilton']   \n",
       "\n",
       "                                               image  \\\n",
       "0  http://books.google.com/books/content?id=VuNX4...   \n",
       "1  http://books.google.com/books/content?id=qcbXA...   \n",
       "2  http://books.google.com/books/content?id=IB_Sh...   \n",
       "3  http://books.google.com/books/content?id=7udsQ...   \n",
       "4  http://books.google.com/books/content?id=d7feX...   \n",
       "\n",
       "                                         previewLink  \\\n",
       "0  http://books.google.com/books?id=VuNX4Sql51oC&...   \n",
       "1  http://books.google.nl/books?id=qcbXAAAAMAAJ&q...   \n",
       "2  http://books.google.com/books?id=IB_ShD9fTcsC&...   \n",
       "3  http://books.google.com/books?id=7udsQgAACAAJ&...   \n",
       "4  http://books.google.com/books?id=d7feX5LOMfoC&...   \n",
       "\n",
       "                                  publisher publishedDate  \\\n",
       "0                       Libraries Unlimited    1996-01-01   \n",
       "1                               Laurel Leaf    1987-01-01   \n",
       "2                   Mercer University Press    1995-01-01   \n",
       "3  Seattle : University of Washington Press    2000-01-01   \n",
       "4                               Image Books    2006-01-01   \n",
       "\n",
       "                                            infoLink  \\\n",
       "0  https://play.google.com/store/books/details?id...   \n",
       "1  http://books.google.nl/books?id=qcbXAAAAMAAJ&d...   \n",
       "2  https://play.google.com/store/books/details?id...   \n",
       "3  http://books.google.com/books?id=7udsQgAACAAJ&...   \n",
       "4  http://books.google.com/books?id=d7feX5LOMfoC&...   \n",
       "\n",
       "                      categories  ratingsCount  \\\n",
       "0                  ['Education']           2.0   \n",
       "1           ['Juvenile Fiction']           1.0   \n",
       "2                    ['History']           1.0   \n",
       "3                  ['Reference']           1.0   \n",
       "4  ['Biography & Autobiography']           2.0   \n",
       "\n",
       "                                        Title_padrao  \\\n",
       "0                                   License to Laugh   \n",
       "1              Motown and Didi (Polk Street Special)   \n",
       "2           The FBI-KGB War: A Special Agent's Story   \n",
       "3  Captain Cook's World: Maps of the Life and Voy...   \n",
       "4                        Mary Magdalene: A Biography   \n",
       "\n",
       "                      authors_padrao                        publisher_padrao  \\\n",
       "0                   richard a. shade                     libraries unlimited   \n",
       "1                  walter dean myers                             laurel leaf   \n",
       "2  robert j. lamphere, tom shachtman                 mercer university press   \n",
       "3                        john robson  seattle university of washington press   \n",
       "4                      bruce chilton                             image books   \n",
       "\n",
       "           categories_padrao  publishedDate_padrao  \n",
       "0                  education                1996.0  \n",
       "1           juvenile fiction                1987.0  \n",
       "2                    history                1995.0  \n",
       "3                  reference                2000.0  \n",
       "4  biography & autobiography                2006.0  "
      ]
     },
     "execution_count": 16,
     "metadata": {},
     "output_type": "execute_result"
    }
   ],
   "source": [
    "books_data.head()"
   ]
  },
  {
   "cell_type": "markdown",
   "metadata": {},
   "source": [
    "### Análise de Dados Faltantes"
   ]
  },
  {
   "cell_type": "code",
   "execution_count": 16,
   "metadata": {},
   "outputs": [
    {
     "name": "stdout",
     "output_type": "stream",
     "text": [
      "Análise de dados faltantes ANTES da imputação:\n",
      "==================================================\n",
      "authors_padrao      :  2,292 ( 17.7%)\n",
      "publisher_padrao    :  4,082 ( 31.6%)\n",
      "categories_padrao   :  2,386 ( 18.5%)\n",
      "publishedDate_padrao:  6,833 ( 52.9%)\n"
     ]
    }
   ],
   "source": [
    "# Verificar dados faltantes antes da imputação\n",
    "print(\"Análise de dados faltantes ANTES da imputação:\")\n",
    "print(\"=\" * 50)\n",
    "\n",
    "campos_alvo = ['authors_padrao', 'publisher_padrao', 'categories_padrao', 'publishedDate_padrao']\n",
    "\n",
    "for campo in campos_alvo:\n",
    "    total = len(books_data)\n",
    "    faltantes = books_data[campo].isna().sum()\n",
    "    percentual = (faltantes / total) * 100\n",
    "    print(f\"{campo:20}: {faltantes:6,} ({percentual:5.1f}%)\")"
   ]
  },
  {
   "cell_type": "markdown",
   "metadata": {},
   "source": [
    "### Identificar Registros para Imputação"
   ]
  },
  {
   "cell_type": "code",
   "execution_count": 20,
   "metadata": {},
   "outputs": [
    {
     "name": "stdout",
     "output_type": "stream",
     "text": [
      "Registros identificados para imputação: 8,828\n",
      "Isso representa 68.3% do dataset\n",
      "\n",
      " Exemplos de títulos que serão processados:\n",
      "   1. [3668] The Hoosier School-Master\n",
      "   2. [3669] The Ginger Man\n",
      "   3. [3670] Cooking 1-2-3: 500 Fabulous Three-Ingredient Recipes (1-2-3 Cookbook)\n",
      "   4. [3671] Backyard Rescue\n",
      "   5. [3672] Calvin's commentaries\n"
     ]
    }
   ],
   "source": [
    "titulos_para_buscar = identificar_registros_faltantes(books_data)\n",
    "\n",
    "print(f\"Registros identificados para imputação: {len(titulos_para_buscar):,}\")\n",
    "print(f\"Isso representa {len(titulos_para_buscar)/len(books_data)*100:.1f}% do dataset\")\n",
    "\n",
    "# Mostrar alguns exemplos\n",
    "print(\"\\n Exemplos de títulos que serão processados:\")\n",
    "for i, (idx, titulo) in enumerate(titulos_para_buscar[:5]):\n",
    "    print(f\"   {i+1}. [{idx}] {titulo}\")"
   ]
  },
  {
   "cell_type": "markdown",
   "metadata": {},
   "source": [
    "### Execução da Imputação\n",
    "\n",
    "**Configurações para PoC:**\n",
    "- Checkpoint a cada 100 registros"
   ]
  },
  {
   "cell_type": "code",
   "execution_count": 18,
   "metadata": {},
   "outputs": [
    {
     "name": "stdout",
     "output_type": "stream",
     "text": [
      "   Configurações da imputação:\n",
      "   Limite de registros: 13,000\n",
      "   Threads paralelas: 40\n",
      "   Diretório de saída: ../data/modified/\n"
     ]
    }
   ],
   "source": [
    "# Configurações da imputação\n",
    "LIMITE_REGISTROS = 13000  # Para PoC - ajustar conforme necessário\n",
    "MAX_WORKERS = 40        # Threads paralelas\n",
    "OUTPUT_DIR = \"../data/modified/\"\n",
    "\n",
    "print(\"   Configurações da imputação:\")\n",
    "print(f\"   Limite de registros: {LIMITE_REGISTROS:,}\")\n",
    "print(f\"   Threads paralelas: {MAX_WORKERS}\")\n",
    "print(f\"   Diretório de saída: {OUTPUT_DIR}\")"
   ]
  },
  {
   "cell_type": "markdown",
   "metadata": {},
   "source": [
    "### Execução do Pipeline Completo"
   ]
  },
  {
   "cell_type": "code",
   "execution_count": 21,
   "metadata": {},
   "outputs": [
    {
     "name": "stdout",
     "output_type": "stream",
     "text": [
      "Iniciando pipeline de imputação...\n",
      "Limpando strings vazias nos campos padronizados...\n",
      "Limpando strings vazias...\n",
      "Identificando registros com dados faltantes...\n",
      "   Encontrados 8828 registros com dados faltantes\n",
      "Iniciando processo de imputação via Open Library...\n",
      "Iniciando imputação de 8828 registros com 40 threads...\n"
     ]
    },
    {
     "name": "stderr",
     "output_type": "stream",
     "text": [
      "Paralelizando requisições: 100%|██████████| 8828/8828 [03:04<00:00, 47.90it/s]"
     ]
    },
    {
     "name": "stdout",
     "output_type": "stream",
     "text": [
      "\n",
      "Relatório de Imputação:\n",
      "Tempo total: 184.98 segundos\n",
      "Registros processados: 8828\n",
      "\n",
      "   authors_padrao\n",
      "   - Ausentes antes : 2292\n",
      "   - Imputados      : 18\n",
      "   - Permaneceram NA: 2274\n",
      "   - Taxa de sucesso: 0.79%\n",
      "\n",
      "   publisher_padrao\n",
      "   - Ausentes antes : 4082\n",
      "   - Imputados      : 18\n",
      "   - Permaneceram NA: 4064\n",
      "   - Taxa de sucesso: 0.44%\n",
      "\n",
      "   categories_padrao\n",
      "   - Ausentes antes : 2386\n",
      "   - Imputados      : 15\n",
      "   - Permaneceram NA: 2371\n",
      "   - Taxa de sucesso: 0.63%\n",
      "\n",
      "   publishedDate_padrao\n",
      "   - Ausentes antes : 6833\n",
      "   - Imputados      : 18\n",
      "   - Permaneceram NA: 6815\n",
      "   - Taxa de sucesso: 0.26%\n",
      "\n",
      "Aplicando imputações ao dataset original...\n",
      "Dataset imputado salvo em: ../data/modified/books_data_imputado.parquet\n"
     ]
    },
    {
     "name": "stderr",
     "output_type": "stream",
     "text": [
      "\n"
     ]
    }
   ],
   "source": [
    "books_data_imputado = executar_pipeline_imputacao(\n",
    "    books_data=books_data,\n",
    "    limite=LIMITE_REGISTROS,\n",
    "    max_workers=MAX_WORKERS,\n",
    "    output_dir=OUTPUT_DIR\n",
    ")"
   ]
  },
  {
   "cell_type": "markdown",
   "metadata": {},
   "source": [
    "### Análise dos Resultados"
   ]
  },
  {
   "cell_type": "code",
   "execution_count": 17,
   "metadata": {},
   "outputs": [
    {
     "name": "stdout",
     "output_type": "stream",
     "text": [
      " COMPARAÇÃO: Antes vs Depois da Imputação\n",
      "============================================================\n",
      "\n",
      " authors_padrao:\n",
      "   Antes     :  2,292 valores faltantes\n",
      "   Depois    :  2,292 valores faltantes\n",
      "   Imputados :      0 valores\n",
      "   Taxa      :    0.0% de sucesso\n",
      "\n",
      " publisher_padrao:\n",
      "   Antes     :  4,082 valores faltantes\n",
      "   Depois    :  4,081 valores faltantes\n",
      "   Imputados :      1 valores\n",
      "   Taxa      :    0.0% de sucesso\n",
      "\n",
      " categories_padrao:\n",
      "   Antes     :  2,386 valores faltantes\n",
      "   Depois    :  2,386 valores faltantes\n",
      "   Imputados :      0 valores\n",
      "   Taxa      :    0.0% de sucesso\n",
      "\n",
      " publishedDate_padrao:\n",
      "   Antes     :  6,833 valores faltantes\n",
      "   Depois    :  6,813 valores faltantes\n",
      "   Imputados :     20 valores\n",
      "   Taxa      :    0.3% de sucesso\n"
     ]
    }
   ],
   "source": [
    "# Comparar dados faltantes antes e depois\n",
    "print(\" COMPARAÇÃO: Antes vs Depois da Imputação\")\n",
    "print(\"=\" * 60)\n",
    "\n",
    "for campo in campos_alvo:\n",
    "    antes = books_data[campo].isna().sum()\n",
    "    depois = books_data_imputado[campo].isna().sum()\n",
    "    imputados = antes - depois\n",
    "    taxa_sucesso = (imputados / antes) * 100 if antes > 0 else 0\n",
    "    \n",
    "    print(f\"\\n {campo}:\")\n",
    "    print(f\"   Antes     : {antes:6,} valores faltantes\")\n",
    "    print(f\"   Depois    : {depois:6,} valores faltantes\") \n",
    "    print(f\"   Imputados : {imputados:6,} valores\")\n",
    "    print(f\"   Taxa      : {taxa_sucesso:6.1f}% de sucesso\")"
   ]
  },
  {
   "cell_type": "markdown",
   "metadata": {},
   "source": [
    "### Verificação da Qualidade"
   ]
  },
  {
   "cell_type": "code",
   "execution_count": 12,
   "metadata": {},
   "outputs": [
    {
     "name": "stdout",
     "output_type": "stream",
     "text": [
      " VERIFICAÇÃO DE QUALIDADE\n",
      "========================================\n"
     ]
    }
   ],
   "source": [
    "# Verificar qualidade das imputações\n",
    "print(\" VERIFICAÇÃO DE QUALIDADE\")\n",
    "print(\"=\" * 40)\n",
    "\n",
    "# Amostrar alguns registros imputados para verificação manual\n",
    "indices_imputados = books_data_imputado.index[\n",
    "    books_data['authors_padrao'].isna() & \n",
    "    books_data_imputado['authors_padrao'].notna()\n",
    "].tolist()\n",
    "\n",
    "if indices_imputados:\n",
    "    print(f\"Exemplos de autores imputados ({len(indices_imputados)} total):\")\n",
    "    for idx in indices_imputados[:5]:\n",
    "        titulo = books_data_imputado.loc[idx, 'Title_padrao']\n",
    "        autor_imputado = books_data_imputado.loc[idx, 'authors_padrao']\n",
    "        print(f\"   {titulo}\")\n",
    "        print(f\"      Autor imputado: {autor_imputado}\\n\")"
   ]
  },
  {
   "cell_type": "markdown",
   "metadata": {},
   "source": [
    "### Análise Estatística"
   ]
  },
  {
   "cell_type": "code",
   "execution_count": 8,
   "metadata": {},
   "outputs": [
    {
     "name": "stdout",
     "output_type": "stream",
     "text": [
      "ESTATÍSTICAS DOS ANOS IMPUTADOS\n",
      "========================================\n",
      "Total de anos imputados: 20\n",
      "Ano mais antigo: 1505\n",
      "Ano mais recente: 2014\n",
      "Mediana: 2001\n"
     ]
    }
   ],
   "source": [
    "# Estatísticas descritivas dos anos imputados\n",
    "anos_imputados = books_data_imputado[\n",
    "    books_data['publishedDate_padrao'].isna() & \n",
    "    books_data_imputado['publishedDate_padrao'].notna()\n",
    "]['publishedDate_padrao']\n",
    "\n",
    "if not anos_imputados.empty:\n",
    "    print(\"ESTATÍSTICAS DOS ANOS IMPUTADOS\")\n",
    "    print(\"=\" * 40)\n",
    "    print(f\"Total de anos imputados: {len(anos_imputados)}\")\n",
    "    print(f\"Ano mais antigo: {anos_imputados.min():.0f}\")\n",
    "    print(f\"Ano mais recente: {anos_imputados.max():.0f}\")\n",
    "    print(f\"Mediana: {anos_imputados.median():.0f}\")"
   ]
  },
  {
   "cell_type": "markdown",
   "metadata": {},
   "source": [
    "### Visualização dos Resultados"
   ]
  },
  {
   "cell_type": "code",
   "execution_count": 9,
   "metadata": {},
   "outputs": [
    {
     "data": {
      "image/png": "[encoded data removed]",
      "text/plain": [
       "<Figure size 1200x600 with 1 Axes>"
      ]
     },
     "metadata": {},
     "output_type": "display_data"
    }
   ],
   "source": [
    "import matplotlib.pyplot as plt\n",
    "import seaborn as sns\n",
    "\n",
    "# Gráfico de barras: antes vs depois\n",
    "fig, ax = plt.subplots(figsize=(12, 6))\n",
    "\n",
    "dados_plot = []\n",
    "for campo in campos_alvo:\n",
    "    antes = books_data[campo].isna().sum()\n",
    "    depois = books_data_imputado[campo].isna().sum()\n",
    "    dados_plot.append({'Campo': campo.replace('_padrao', ''), 'Antes': antes, 'Depois': depois})\n",
    "\n",
    "df_plot = pd.DataFrame(dados_plot)\n",
    "\n",
    "x = range(len(df_plot))\n",
    "width = 0.35\n",
    "\n",
    "ax.bar([i - width/2 for i in x], df_plot['Antes'], width, label='Antes', alpha=0.8, color='red')\n",
    "ax.bar([i + width/2 for i in x], df_plot['Depois'], width, label='Depois', alpha=0.8, color='green')\n",
    "\n",
    "ax.set_xlabel('Campos')\n",
    "ax.set_ylabel('Número de Valores Faltantes')\n",
    "ax.set_title('Dados Faltantes: Antes vs Depois da Imputação')\n",
    "ax.set_xticks(x)\n",
    "ax.set_xticklabels(df_plot['Campo'], rotation=45)\n",
    "ax.legend()\n",
    "ax.grid(axis='y', alpha=0.3)\n",
    "\n",
    "plt.tight_layout()\n",
    "plt.show()"
   ]
  },
  {
   "cell_type": "markdown",
   "metadata": {},
   "source": [
    "### Salvar Datasets Finais"
   ]
  },
  {
   "cell_type": "code",
   "execution_count": null,
   "metadata": {},
   "outputs": [],
   "source": [
    "# Salvar datasets finais em diferentes formatos\n",
    "output_files = {\n",
    "    'parquet': '../data/final/books_data_final.parquet',\n",
    "    'csv': '../data/final/books_data_final.csv'\n",
    "}\n",
    "\n",
    "# Criar diretório se não existe\n",
    "os.makedirs('../data/final/', exist_ok=True)\n",
    "\n",
    "# Salvar em múltiplos formatos\n",
    "for formato, caminho in output_files.items():\n",
    "    if formato == 'parquet':\n",
    "        books_data_imputado.to_parquet(caminho, index=False)\n",
    "    else:\n",
    "        books_data_imputado.to_csv(caminho, index=False)\n",
    "    \n",
    "    print(f\" Dataset salvo em {formato.upper()}: {caminho}\")"
   ]
  },
  {
   "cell_type": "markdown",
   "metadata": {},
   "source": [
    "### Relatório Final"
   ]
  },
  {
   "cell_type": "code",
   "execution_count": 10,
   "metadata": {},
   "outputs": [
    {
     "name": "stdout",
     "output_type": "stream",
     "text": [
      "RELATÓRIO FINAL DA IMPUTAÇÃO\n",
      "==================================================\n",
      " Dataset original: 12,922 registros\n",
      " Registros processados: 8,828\n",
      " Campos melhorados: 4\n",
      " Total de imputações realizadas: 21\n",
      " Dataset final salvo com 12,922 registros\n",
      " Melhoria geral: 0.1% redução em dados faltantes\n"
     ]
    }
   ],
   "source": [
    "print(\"RELATÓRIO FINAL DA IMPUTAÇÃO\")\n",
    "print(\"=\" * 50)\n",
    "print(f\" Dataset original: {books_data.shape[0]:,} registros\")\n",
    "print(f\" Registros processados: {min(LIMITE_REGISTROS, len(titulos_para_buscar)):,}\")\n",
    "print(f\" Campos melhorados: {len(campos_alvo)}\")\n",
    "\n",
    "total_imputacoes = 0\n",
    "for campo in campos_alvo:\n",
    "    antes = books_data[campo].isna().sum()\n",
    "    depois = books_data_imputado[campo].isna().sum()\n",
    "    imputacoes = antes - depois\n",
    "    total_imputacoes += imputacoes\n",
    "\n",
    "print(f\" Total de imputações realizadas: {total_imputacoes:,}\")\n",
    "print(f\" Dataset final salvo com {books_data_imputado.shape[0]:,} registros\")\n",
    "\n",
    "# Calcular melhoria geral\n",
    "missing_antes = books_data[campos_alvo].isna().sum().sum()\n",
    "missing_depois = books_data_imputado[campos_alvo].isna().sum().sum()\n",
    "melhoria_percentual = ((missing_antes - missing_depois) / missing_antes) * 100\n",
    "\n",
    "print(f\" Melhoria geral: {melhoria_percentual:.1f}% redução em dados faltantes\")"
   ]
  }
 ],
 "metadata": {
  "kernelspec": {
   "display_name": "a3data-py3.12",
   "language": "python",
   "name": "python3"
  },
  "language_info": {
   "codemirror_mode": {
    "name": "ipython",
    "version": 3
   },
   "file_extension": ".py",
   "mimetype": "text/x-python",
   "name": "python",
   "nbconvert_exporter": "python",
   "pygments_lexer": "ipython3",
   "version": "3.12.10"
  }
 },
 "nbformat": 4,
 "nbformat_minor": 4
}
