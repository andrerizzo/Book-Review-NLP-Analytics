{
 "cells": [
  {
   "cell_type": "markdown",
   "metadata": {},
   "source": [
    "# Análise Exploratória de Dados\n",
    "\n",
    "\n",
    "### Autor: André Rizzo"
   ]
  },
  {
   "cell_type": "markdown",
   "metadata": {},
   "source": [
    "## Carregar bibliotecas"
   ]
  },
  {
   "cell_type": "code",
   "execution_count": 1,
   "metadata": {},
   "outputs": [],
   "source": [
    "import pandas as pd\n",
    "import matplotlib.pyplot as plt\n",
    "import seaborn as sns\n",
    "import re\n",
    "import sys\n",
    "import os\n",
    "\n",
    "# Adiciona a raiz do projeto ao sys.path (ajuste se necessário)\n",
    "sys.path.append(os.path.abspath(\"..\"))\n",
    "\n",
    "# Imports dos módulos\n",
    "\n",
    "from src.preprocessing.load_data import ( \n",
    "    criar_amostra_rapida, \n",
    "    load_datasets_local,\n",
    "    check_duplicates, \n",
    "    check_empty_records\n",
    ")\n",
    "\n",
    "from src.preprocessing.data_cleaner import (\n",
    "    limpar_e_normalizar_books_data, \n",
    "    limpar_books_rating\n",
    ")"
   ]
  },
  {
   "cell_type": "markdown",
   "metadata": {},
   "source": [
    "## Carregar datasets"
   ]
  },
  {
   "cell_type": "code",
   "execution_count": 2,
   "metadata": {},
   "outputs": [],
   "source": [
    "books_data, books_rating = load_datasets_local()"
   ]
  },
  {
   "cell_type": "markdown",
   "metadata": {},
   "source": [
    "## Overview dos Dados"
   ]
  },
  {
   "cell_type": "code",
   "execution_count": 4,
   "metadata": {},
   "outputs": [
    {
     "data": {
      "application/vnd.microsoft.datawrangler.viewer.v0+json": {
       "columns": [
        {
         "name": "index",
         "rawType": "int64",
         "type": "integer"
        },
        {
         "name": "Title",
         "rawType": "object",
         "type": "string"
        },
        {
         "name": "description",
         "rawType": "object",
         "type": "unknown"
        },
        {
         "name": "authors",
         "rawType": "object",
         "type": "string"
        },
        {
         "name": "image",
         "rawType": "object",
         "type": "unknown"
        },
        {
         "name": "previewLink",
         "rawType": "object",
         "type": "string"
        },
        {
         "name": "publisher",
         "rawType": "object",
         "type": "unknown"
        },
        {
         "name": "publishedDate",
         "rawType": "object",
         "type": "string"
        },
        {
         "name": "infoLink",
         "rawType": "object",
         "type": "string"
        },
        {
         "name": "categories",
         "rawType": "object",
         "type": "unknown"
        },
        {
         "name": "ratingsCount",
         "rawType": "float64",
         "type": "float"
        }
       ],
       "ref": "3f9db1a3-9758-4783-b1cb-403b5eedd240",
       "rows": [
        [
         "0",
         "Its Only Art If Its Well Hung!",
         null,
         "['Julie Strain']",
         "http://books.google.com/books/content?id=DykPAAAACAAJ&printsec=frontcover&img=1&zoom=1&source=gbs_api",
         "http://books.google.nl/books?id=DykPAAAACAAJ&dq=Its+Only+Art+If+Its+Well+Hung!&hl=&cd=1&source=gbs_api",
         null,
         "1996",
         "http://books.google.nl/books?id=DykPAAAACAAJ&dq=Its+Only+Art+If+Its+Well+Hung!&hl=&source=gbs_api",
         "['Comics & Graphic Novels']",
         null
        ],
        [
         "1",
         "Dr. Seuss: American Icon",
         "Philip Nel takes a fascinating look into the key aspects of Seuss's career - his poetry, politics, art, marketing, and place in the popular imagination.\" \"Nel argues convincingly that Dr. Seuss is one of the most influential poets in America. His nonsense verse, like that of Lewis Carroll and Edward Lear, has changed language itself, giving us new words like \"nerd.\" And Seuss's famously loopy artistic style - what Nel terms an \"energetic cartoon surrealism\" - has been equally important, inspiring artists like filmmaker Tim Burton and illustrator Lane Smith. --from back cover",
         "['Philip Nel']",
         "http://books.google.com/books/content?id=IjvHQsCn_pgC&printsec=frontcover&img=1&zoom=1&edge=curl&source=gbs_api",
         "http://books.google.nl/books?id=IjvHQsCn_pgC&printsec=frontcover&dq=Dr.+Seuss:+American+Icon&hl=&cd=1&source=gbs_api",
         "A&C Black",
         "2005-01-01",
         "http://books.google.nl/books?id=IjvHQsCn_pgC&dq=Dr.+Seuss:+American+Icon&hl=&source=gbs_api",
         "['Biography & Autobiography']",
         null
        ],
        [
         "2",
         "Wonderful Worship in Smaller Churches",
         "This resource includes twelve principles in understanding small church worship, fifteen practices for planning worship with fewer than 100 people, and suggestions for congregational study.",
         "['David R. Ray']",
         "http://books.google.com/books/content?id=2tsDAAAACAAJ&printsec=frontcover&img=1&zoom=1&source=gbs_api",
         "http://books.google.nl/books?id=2tsDAAAACAAJ&dq=Wonderful+Worship+in+Smaller+Churches&hl=&cd=1&source=gbs_api",
         null,
         "2000",
         "http://books.google.nl/books?id=2tsDAAAACAAJ&dq=Wonderful+Worship+in+Smaller+Churches&hl=&source=gbs_api",
         "['Religion']",
         null
        ],
        [
         "3",
         "Whispers of the Wicked Saints",
         "Julia Thomas finds her life spinning out of control after the death of her husband, Richard. Julia turns to her minister for comfort when she finds herself falling for him with a passion that is forbidden by the church. Heath Sparks is a man of God who is busy taking care of his quadriplegic wife who was seriously injured in a sever car accident. In an innocent effort to reach out to a lonely member of his church, Heath finds himself as the man and not the minister as Heath and Julia surrender their bodies to each other and face the wrath of God. Julia finds herself in over her head as she faces a deadly disease, the loss of her home and whispers about her wicked affair. Julia leaves the states offering her body as a living sacrifice in hopes of finding a cure while her heart remains thousands of miles away hoping to one day reunite with the man who holds it hostage.Whispers of the Wicked Saints is a once in a lifetime romance that is breath taking, defying all the rules of romance and bending the laws of love.",
         "['Veronica Haddon']",
         "http://books.google.com/books/content?id=aRSIgJlq6JwC&printsec=frontcover&img=1&zoom=1&source=gbs_api",
         "http://books.google.nl/books?id=aRSIgJlq6JwC&dq=Whispers+of+the+Wicked+Saints&hl=&cd=1&source=gbs_api",
         "iUniverse",
         "2005-02",
         "http://books.google.nl/books?id=aRSIgJlq6JwC&dq=Whispers+of+the+Wicked+Saints&hl=&source=gbs_api",
         "['Fiction']",
         null
        ],
        [
         "4",
         "Nation Dance: Religion, Identity and Cultural Difference in the Caribbean",
         null,
         "['Edward Long']",
         null,
         "http://books.google.nl/books?id=399SPgAACAAJ&dq=Nation+Dance:+Religion,+Identity+and+Cultural+Difference+in+the+Caribbean&hl=&cd=1&source=gbs_api",
         null,
         "2003-03-01",
         "http://books.google.nl/books?id=399SPgAACAAJ&dq=Nation+Dance:+Religion,+Identity+and+Cultural+Difference+in+the+Caribbean&hl=&source=gbs_api",
         null,
         null
        ]
       ],
       "shape": {
        "columns": 10,
        "rows": 5
       }
      },
      "text/html": [
       "<div>\n",
       "<style scoped>\n",
       "    .dataframe tbody tr th:only-of-type {\n",
       "        vertical-align: middle;\n",
       "    }\n",
       "\n",
       "    .dataframe tbody tr th {\n",
       "        vertical-align: top;\n",
       "    }\n",
       "\n",
       "    .dataframe thead th {\n",
       "        text-align: right;\n",
       "    }\n",
       "</style>\n",
       "<table border=\"1\" class=\"dataframe\">\n",
       "  <thead>\n",
       "    <tr style=\"text-align: right;\">\n",
       "      <th></th>\n",
       "      <th>Title</th>\n",
       "      <th>description</th>\n",
       "      <th>authors</th>\n",
       "      <th>image</th>\n",
       "      <th>previewLink</th>\n",
       "      <th>publisher</th>\n",
       "      <th>publishedDate</th>\n",
       "      <th>infoLink</th>\n",
       "      <th>categories</th>\n",
       "      <th>ratingsCount</th>\n",
       "    </tr>\n",
       "  </thead>\n",
       "  <tbody>\n",
       "    <tr>\n",
       "      <th>0</th>\n",
       "      <td>Its Only Art If Its Well Hung!</td>\n",
       "      <td>NaN</td>\n",
       "      <td>['Julie Strain']</td>\n",
       "      <td>http://books.google.com/books/content?id=DykPA...</td>\n",
       "      <td>http://books.google.nl/books?id=DykPAAAACAAJ&amp;d...</td>\n",
       "      <td>NaN</td>\n",
       "      <td>1996</td>\n",
       "      <td>http://books.google.nl/books?id=DykPAAAACAAJ&amp;d...</td>\n",
       "      <td>['Comics &amp; Graphic Novels']</td>\n",
       "      <td>NaN</td>\n",
       "    </tr>\n",
       "    <tr>\n",
       "      <th>1</th>\n",
       "      <td>Dr. Seuss: American Icon</td>\n",
       "      <td>Philip Nel takes a fascinating look into the k...</td>\n",
       "      <td>['Philip Nel']</td>\n",
       "      <td>http://books.google.com/books/content?id=IjvHQ...</td>\n",
       "      <td>http://books.google.nl/books?id=IjvHQsCn_pgC&amp;p...</td>\n",
       "      <td>A&amp;C Black</td>\n",
       "      <td>2005-01-01</td>\n",
       "      <td>http://books.google.nl/books?id=IjvHQsCn_pgC&amp;d...</td>\n",
       "      <td>['Biography &amp; Autobiography']</td>\n",
       "      <td>NaN</td>\n",
       "    </tr>\n",
       "    <tr>\n",
       "      <th>2</th>\n",
       "      <td>Wonderful Worship in Smaller Churches</td>\n",
       "      <td>This resource includes twelve principles in un...</td>\n",
       "      <td>['David R. Ray']</td>\n",
       "      <td>http://books.google.com/books/content?id=2tsDA...</td>\n",
       "      <td>http://books.google.nl/books?id=2tsDAAAACAAJ&amp;d...</td>\n",
       "      <td>NaN</td>\n",
       "      <td>2000</td>\n",
       "      <td>http://books.google.nl/books?id=2tsDAAAACAAJ&amp;d...</td>\n",
       "      <td>['Religion']</td>\n",
       "      <td>NaN</td>\n",
       "    </tr>\n",
       "    <tr>\n",
       "      <th>3</th>\n",
       "      <td>Whispers of the Wicked Saints</td>\n",
       "      <td>Julia Thomas finds her life spinning out of co...</td>\n",
       "      <td>['Veronica Haddon']</td>\n",
       "      <td>http://books.google.com/books/content?id=aRSIg...</td>\n",
       "      <td>http://books.google.nl/books?id=aRSIgJlq6JwC&amp;d...</td>\n",
       "      <td>iUniverse</td>\n",
       "      <td>2005-02</td>\n",
       "      <td>http://books.google.nl/books?id=aRSIgJlq6JwC&amp;d...</td>\n",
       "      <td>['Fiction']</td>\n",
       "      <td>NaN</td>\n",
       "    </tr>\n",
       "    <tr>\n",
       "      <th>4</th>\n",
       "      <td>Nation Dance: Religion, Identity and Cultural ...</td>\n",
       "      <td>NaN</td>\n",
       "      <td>['Edward Long']</td>\n",
       "      <td>NaN</td>\n",
       "      <td>http://books.google.nl/books?id=399SPgAACAAJ&amp;d...</td>\n",
       "      <td>NaN</td>\n",
       "      <td>2003-03-01</td>\n",
       "      <td>http://books.google.nl/books?id=399SPgAACAAJ&amp;d...</td>\n",
       "      <td>NaN</td>\n",
       "      <td>NaN</td>\n",
       "    </tr>\n",
       "  </tbody>\n",
       "</table>\n",
       "</div>"
      ],
      "text/plain": [
       "                                               Title  \\\n",
       "0                     Its Only Art If Its Well Hung!   \n",
       "1                           Dr. Seuss: American Icon   \n",
       "2              Wonderful Worship in Smaller Churches   \n",
       "3                      Whispers of the Wicked Saints   \n",
       "4  Nation Dance: Religion, Identity and Cultural ...   \n",
       "\n",
       "                                         description              authors  \\\n",
       "0                                                NaN     ['Julie Strain']   \n",
       "1  Philip Nel takes a fascinating look into the k...       ['Philip Nel']   \n",
       "2  This resource includes twelve principles in un...     ['David R. Ray']   \n",
       "3  Julia Thomas finds her life spinning out of co...  ['Veronica Haddon']   \n",
       "4                                                NaN      ['Edward Long']   \n",
       "\n",
       "                                               image  \\\n",
       "0  http://books.google.com/books/content?id=DykPA...   \n",
       "1  http://books.google.com/books/content?id=IjvHQ...   \n",
       "2  http://books.google.com/books/content?id=2tsDA...   \n",
       "3  http://books.google.com/books/content?id=aRSIg...   \n",
       "4                                                NaN   \n",
       "\n",
       "                                         previewLink  publisher publishedDate  \\\n",
       "0  http://books.google.nl/books?id=DykPAAAACAAJ&d...        NaN          1996   \n",
       "1  http://books.google.nl/books?id=IjvHQsCn_pgC&p...  A&C Black    2005-01-01   \n",
       "2  http://books.google.nl/books?id=2tsDAAAACAAJ&d...        NaN          2000   \n",
       "3  http://books.google.nl/books?id=aRSIgJlq6JwC&d...  iUniverse       2005-02   \n",
       "4  http://books.google.nl/books?id=399SPgAACAAJ&d...        NaN    2003-03-01   \n",
       "\n",
       "                                            infoLink  \\\n",
       "0  http://books.google.nl/books?id=DykPAAAACAAJ&d...   \n",
       "1  http://books.google.nl/books?id=IjvHQsCn_pgC&d...   \n",
       "2  http://books.google.nl/books?id=2tsDAAAACAAJ&d...   \n",
       "3  http://books.google.nl/books?id=aRSIgJlq6JwC&d...   \n",
       "4  http://books.google.nl/books?id=399SPgAACAAJ&d...   \n",
       "\n",
       "                      categories  ratingsCount  \n",
       "0    ['Comics & Graphic Novels']           NaN  \n",
       "1  ['Biography & Autobiography']           NaN  \n",
       "2                   ['Religion']           NaN  \n",
       "3                    ['Fiction']           NaN  \n",
       "4                            NaN           NaN  "
      ]
     },
     "execution_count": 4,
     "metadata": {},
     "output_type": "execute_result"
    }
   ],
   "source": [
    "books_data.head()\n"
   ]
  },
  {
   "cell_type": "code",
   "execution_count": 5,
   "metadata": {},
   "outputs": [
    {
     "data": {
      "application/vnd.microsoft.datawrangler.viewer.v0+json": {
       "columns": [
        {
         "name": "index",
         "rawType": "int64",
         "type": "integer"
        },
        {
         "name": "Id",
         "rawType": "object",
         "type": "string"
        },
        {
         "name": "Title",
         "rawType": "object",
         "type": "string"
        },
        {
         "name": "Price",
         "rawType": "float64",
         "type": "float"
        },
        {
         "name": "User_id",
         "rawType": "object",
         "type": "string"
        },
        {
         "name": "profileName",
         "rawType": "object",
         "type": "string"
        },
        {
         "name": "score",
         "rawType": "float64",
         "type": "float"
        },
        {
         "name": "time",
         "rawType": "int64",
         "type": "integer"
        },
        {
         "name": "summary",
         "rawType": "object",
         "type": "string"
        },
        {
         "name": "text",
         "rawType": "object",
         "type": "string"
        }
       ],
       "ref": "b3d95601-ba45-4ba3-a226-5fac44555e38",
       "rows": [
        [
         "0",
         "1882931173",
         "Its Only Art If Its Well Hung!",
         null,
         "AVCGYZL8FQQTD",
         "Jim of Oz \"jim-of-oz\"",
         "4.0",
         "940636800",
         "Nice collection of Julie Strain images",
         "This is only for Julie Strain fans. It's a collection of her photos -- about 80 pages worth with a nice section of paintings by Olivia.If you're looking for heavy literary content, this isn't the place to find it -- there's only about 2 pages with text and everything else is photos.Bottom line: if you only want one book, the Six Foot One ... is probably a better choice, however, if you like Julie like I like Julie, you won't go wrong on this one either."
        ],
        [
         "1",
         "0826414346",
         "Dr. Seuss: American Icon",
         null,
         "A30TK6U7DNS82R",
         "Kevin Killian",
         "5.0",
         "1095724800",
         "Really Enjoyed It",
         "I don't care much for Dr. Seuss but after reading Philip Nel's book I changed my mind--that's a good testimonial to the power of Rel's writing and thinking. Rel plays Dr. Seuss the ultimate compliment of treating him as a serious poet as well as one of the 20th century's most interesting visual artists, and after reading his book I decided that a trip to the Mandeville Collections of the library at University of California in San Diego was in order, so I could visit some of the incredible Seuss/Geisel holdings they have there.There's almost too much to take in, for, like William Butler Yeats, Seuss led a career that constantly shifted and metamoprhized itself to meet new historical and political cirsumstances, so he seems to have been both a leftist and a conservative at different junctures of his career, both in politics and in art. As Nel shows us, he was once a cartoonist for the fabled PM magazine and, like Andy Warhol, he served his time slaving in the ad business too. All was in the service of amusing and broadening the minds of US children. Nel doesn't hesitate to administer a sound spanking to the Seuss industry that, since his death, has seen fit to license all kinds of awful products including the recent CAT IN THE HAT film with Mike Myers. Oh, what a cat-astrophe!The book is great and I can especially recommend the work of the picture editor who has given us a bounty of good illustrations."
        ],
        [
         "2",
         "0826414346",
         "Dr. Seuss: American Icon",
         null,
         "A3UH4UZ4RSVO82",
         "John Granger",
         "5.0",
         "1078790400",
         "Essential for every personal and Public Library",
         "If people become the books they read and if \"the child is father to the man,\" then Dr. Seuss (Theodor Seuss Geisel) is the most influential author, poet, and artist of modern times. For me, a daddy to a large family who learned to read with Dr. Seuss and who has memorized too many of the books via repeated readings to young children, Prof. Nel's brilliant 'American Icon' is a long awaited treat. At last a serious treatment of this remarkable genius that is both an engaging read and filled with remarkable insights! I especially enjoyed (and learned more than I care to admit from) Prof. Nel's discussions of the Disneyfication of Seuss - which Nel links to failings in American copyright law, \"the other sides of Dr. Seuss\" - all of which sides were new to me, and the political genesis of his secular morality in the WWII cartoon work he did at PM magazine. The chapters on Geisel's poetry and artwork and the link Nel makes between Seuss and the historical avant guarde alone make this book a \"must buy\" for parents and serious readers, not to mention public libraries. Readers of Nel's other books will find the same engaging writing style that makes the book a fun read while imparting a mountain of information and important ideas. This is simply the best and most comprehensive book yet written on the work of Seuss Geisel and what will certainly be the standard for many years to come. Thank you, Prof. Nel, wherever you are, from a reader who grew up with the good doctor and who is growing up with him again years later. Your book, written from your encyclopeadic knowledge of children's literature and the media of this genre - from scanning verse to cubist painting! - explains the power, limits, and popularity of the Seuss phenomenon."
        ],
        [
         "3",
         "0826414346",
         "Dr. Seuss: American Icon",
         null,
         "A2MVUWT453QH61",
         "Roy E. Perry \"amateur philosopher\"",
         "4.0",
         "1090713600",
         "Phlip Nel gives silly Seuss a serious treatment",
         "Theodore Seuss Geisel (1904-1991), aka &quot;Dr. Seuss,&quot; was one of the most influential writers and artists of the 20th century.In 1959, Rudolf Flesch wrote, &quot;A hundred years from now, children and their parents will still eagerly read the books of a fellow called Ted Geisel, popularly known as Dr. Seuss.&quot;Flesch was too conservative in his prediction. A century, and more, from today, Dr. Seuss will still be read when many authors on today's bestseller lists will be forgotten.Published on the centenary of Geisel's birth, Dr. Seuss: American Icon analyzes six key aspects of Seuss's career: poetry, politics, art, biography, marketing, and influence.In six insightful chapters, Philip Nel, Assistant Professor of English at Kansas State University, discusses &quot;U.S. Laureate of Nonsense,&quot; &quot;Dr. Seuss vs. Adolf Hitler,&quot; &quot;The Doc in the Smock,&quot; &quot;The 5,000 Fingers of Dr. S.,&quot; &quot;The Disneyfication of Dr. Seuss,&quot; and &quot;The Cat in the Hat for President.&quot;Nel gives short shrift to Geisel's childhood and family background--and, indeed, to biography in general--preferring to focus on Seuss's writing and art, from his first book, And to Think That I Saw It on Mulberry Street (1937) to his last book, Oh, the Places You'll Go! (1990).Dr. Seuss's breakthrough year was 1957, when he published the two books with which he is most often identified: The Cat in the Hat and How the Grinch Stole Christmas!Other classic works in the Seussian canon are: Horton Hears a Who! (&quot;A person's a person, no matter how small&quot;), Yertle the Turtle (modeled on the rise of Adolf Hitler), Green Eggs and Ham (Seuss's bestselling book), The Sneeches (a criticism of anti-Semitism), The Lorax (a protest against corporate abuse of the environment), and The Butter Battle Book (a critique of Reagan's enthusiasm for the nuclear arms trace).His favorite work, among the books he authored, was The Cat in the Hat, for it, more than any other, taught children to read.While many of his books have a clear and powerful moral, Seuss had a horror of heavy-handed preaching. He sought to teach and ignite the imagination, but was a lifelong opponent of smug, self-righteous bourgeois moralism.&quot;Seuss was a contrarian,&quot; writes Nel, &quot;who enjoyed challenging people to reconsider their assumptions. [He had a] rebellious imagination and a dispositional distaste for rules and regulations.&quot; His work was a &quot;rational insanity&quot; that exhibited &quot;joyous anarchy&quot; and a &quot;lifelong thrill in misbehaving.&quot;A better subtitle for Nel's work would have been American Icon and Iconoclast.Nel tells of Seuss's early years as an advertising artist and as a agitprop cartoonist. The book, however, is not a biography; it is a serious study in the genres of literary and art criticism.For readers who want more biographical information, Nel recommends Dr. Seuss and Mr. Geisel, by Judith Morgan and Neil Morgan (1995), which he describes as &quot;the definitive biography and the single best secondary source on Seuss. Any discussion of Seuss's life and work must begin with this book.&quot;Dr. Seuss: American Icon includes 103 pages of notes, index, and the most comprehensive annotated Seuss bibliography ever assembled. One learns a lot from this book; the author's lucid style makes it not only an enlightening work but a fun read.Philip Nel is the author of J. K. Rowling's Harry Potter Novels: A Reader's Guide (2001) and The Avant-Garde and American Postmodernity (2002).Roy E. Perry of Nolensville, Tennessee, is an advertising copywriter at a Nashville publishing house."
        ],
        [
         "4",
         "0826414346",
         "Dr. Seuss: American Icon",
         null,
         "A22X4XUPKF66MR",
         "D. H. Richards \"ninthwavestore\"",
         "4.0",
         "1107993600",
         "Good academic overview",
         "Philip Nel - Dr. Seuss: American IconThis is basically an academic overview of Seuss poetry, art, cartoons, and the problems with the commercialization of the Seuss name and works after his death. It is not, to any real extent, a biography. Those seeking such should move on.As an academic book it leans on the dry side. It assumes the reader has a fairly good knowledge of Children's Literature and 20th Century cartoons (not the animated kind). Not a book to begin your Dr. Seuss experience with. But if you have read them to your children and are interested about the writing style (there is a good chapter about his poetry) or his art style (not as good a chapter, but still interesting).What interested me the most was the deconstruction of the recent rush to \"cash in\" on Seuss by Hollywood and advertisers. I think that Nel wants to come down against it, but based on Seuss' background (he started out drawing Flit ads) and the projects he approved during his lifetime; it is a tough argument to make. In the end though Nel does point out that maybe the movies and tie- ins did not have to be so... crass?The book is well researched; lots of neat tidbits are to be gleamed. Early cartoons by Seuss for PM magazine were occasionally (by today's standards) shockingly racist. It makes him a little more human and puts his latter works like the Lorax in a new light.Those in Education may enjoy this background. Fans of Seuss will enjoy the exhaustive bibliography of Seuss's many, many works. Also good list of other works about the man."
        ]
       ],
       "shape": {
        "columns": 9,
        "rows": 5
       }
      },
      "text/html": [
       "<div>\n",
       "<style scoped>\n",
       "    .dataframe tbody tr th:only-of-type {\n",
       "        vertical-align: middle;\n",
       "    }\n",
       "\n",
       "    .dataframe tbody tr th {\n",
       "        vertical-align: top;\n",
       "    }\n",
       "\n",
       "    .dataframe thead th {\n",
       "        text-align: right;\n",
       "    }\n",
       "</style>\n",
       "<table border=\"1\" class=\"dataframe\">\n",
       "  <thead>\n",
       "    <tr style=\"text-align: right;\">\n",
       "      <th></th>\n",
       "      <th>Id</th>\n",
       "      <th>Title</th>\n",
       "      <th>Price</th>\n",
       "      <th>User_id</th>\n",
       "      <th>profileName</th>\n",
       "      <th>score</th>\n",
       "      <th>time</th>\n",
       "      <th>summary</th>\n",
       "      <th>text</th>\n",
       "    </tr>\n",
       "  </thead>\n",
       "  <tbody>\n",
       "    <tr>\n",
       "      <th>0</th>\n",
       "      <td>1882931173</td>\n",
       "      <td>Its Only Art If Its Well Hung!</td>\n",
       "      <td>NaN</td>\n",
       "      <td>AVCGYZL8FQQTD</td>\n",
       "      <td>Jim of Oz \"jim-of-oz\"</td>\n",
       "      <td>4.0</td>\n",
       "      <td>940636800</td>\n",
       "      <td>Nice collection of Julie Strain images</td>\n",
       "      <td>This is only for Julie Strain fans. It's a col...</td>\n",
       "    </tr>\n",
       "    <tr>\n",
       "      <th>1</th>\n",
       "      <td>0826414346</td>\n",
       "      <td>Dr. Seuss: American Icon</td>\n",
       "      <td>NaN</td>\n",
       "      <td>A30TK6U7DNS82R</td>\n",
       "      <td>Kevin Killian</td>\n",
       "      <td>5.0</td>\n",
       "      <td>1095724800</td>\n",
       "      <td>Really Enjoyed It</td>\n",
       "      <td>I don't care much for Dr. Seuss but after read...</td>\n",
       "    </tr>\n",
       "    <tr>\n",
       "      <th>2</th>\n",
       "      <td>0826414346</td>\n",
       "      <td>Dr. Seuss: American Icon</td>\n",
       "      <td>NaN</td>\n",
       "      <td>A3UH4UZ4RSVO82</td>\n",
       "      <td>John Granger</td>\n",
       "      <td>5.0</td>\n",
       "      <td>1078790400</td>\n",
       "      <td>Essential for every personal and Public Library</td>\n",
       "      <td>If people become the books they read and if \"t...</td>\n",
       "    </tr>\n",
       "    <tr>\n",
       "      <th>3</th>\n",
       "      <td>0826414346</td>\n",
       "      <td>Dr. Seuss: American Icon</td>\n",
       "      <td>NaN</td>\n",
       "      <td>A2MVUWT453QH61</td>\n",
       "      <td>Roy E. Perry \"amateur philosopher\"</td>\n",
       "      <td>4.0</td>\n",
       "      <td>1090713600</td>\n",
       "      <td>Phlip Nel gives silly Seuss a serious treatment</td>\n",
       "      <td>Theodore Seuss Geisel (1904-1991), aka &amp;quot;D...</td>\n",
       "    </tr>\n",
       "    <tr>\n",
       "      <th>4</th>\n",
       "      <td>0826414346</td>\n",
       "      <td>Dr. Seuss: American Icon</td>\n",
       "      <td>NaN</td>\n",
       "      <td>A22X4XUPKF66MR</td>\n",
       "      <td>D. H. Richards \"ninthwavestore\"</td>\n",
       "      <td>4.0</td>\n",
       "      <td>1107993600</td>\n",
       "      <td>Good academic overview</td>\n",
       "      <td>Philip Nel - Dr. Seuss: American IconThis is b...</td>\n",
       "    </tr>\n",
       "  </tbody>\n",
       "</table>\n",
       "</div>"
      ],
      "text/plain": [
       "           Id                           Title  Price         User_id  \\\n",
       "0  1882931173  Its Only Art If Its Well Hung!    NaN   AVCGYZL8FQQTD   \n",
       "1  0826414346        Dr. Seuss: American Icon    NaN  A30TK6U7DNS82R   \n",
       "2  0826414346        Dr. Seuss: American Icon    NaN  A3UH4UZ4RSVO82   \n",
       "3  0826414346        Dr. Seuss: American Icon    NaN  A2MVUWT453QH61   \n",
       "4  0826414346        Dr. Seuss: American Icon    NaN  A22X4XUPKF66MR   \n",
       "\n",
       "                          profileName  score        time  \\\n",
       "0               Jim of Oz \"jim-of-oz\"    4.0   940636800   \n",
       "1                       Kevin Killian    5.0  1095724800   \n",
       "2                        John Granger    5.0  1078790400   \n",
       "3  Roy E. Perry \"amateur philosopher\"    4.0  1090713600   \n",
       "4     D. H. Richards \"ninthwavestore\"    4.0  1107993600   \n",
       "\n",
       "                                           summary  \\\n",
       "0           Nice collection of Julie Strain images   \n",
       "1                                Really Enjoyed It   \n",
       "2  Essential for every personal and Public Library   \n",
       "3  Phlip Nel gives silly Seuss a serious treatment   \n",
       "4                           Good academic overview   \n",
       "\n",
       "                                                text  \n",
       "0  This is only for Julie Strain fans. It's a col...  \n",
       "1  I don't care much for Dr. Seuss but after read...  \n",
       "2  If people become the books they read and if \"t...  \n",
       "3  Theodore Seuss Geisel (1904-1991), aka &quot;D...  \n",
       "4  Philip Nel - Dr. Seuss: American IconThis is b...  "
      ]
     },
     "execution_count": 5,
     "metadata": {},
     "output_type": "execute_result"
    }
   ],
   "source": [
    "books_rating.head()"
   ]
  },
  {
   "cell_type": "markdown",
   "metadata": {},
   "source": [
    "## Verificações Iniciais"
   ]
  },
  {
   "cell_type": "code",
   "execution_count": 6,
   "metadata": {},
   "outputs": [
    {
     "name": "stdout",
     "output_type": "stream",
     "text": [
      "================== BOOKS_DATA ===============\n",
      "Número de registros: 212404     Número de variáveis: 10\n",
      "\n",
      "================== BOOKS_RATING ===============\n",
      "Número de registros: 3000000     Número de variáveis: 9\n"
     ]
    }
   ],
   "source": [
    "# Tamanho dos datasets\n",
    "print('================== BOOKS_DATA ===============')\n",
    "print(f'Número de registros: {books_data.shape[0]}     Número de variáveis: {books_data.shape[1]}')\n",
    "print('\\n================== BOOKS_RATING ===============')\n",
    "print(f'Número de registros: {books_rating.shape[0]}     Número de variáveis: {books_rating.shape[1]}')"
   ]
  },
  {
   "cell_type": "code",
   "execution_count": 5,
   "metadata": {},
   "outputs": [
    {
     "name": "stdout",
     "output_type": "stream",
     "text": [
      "================== BOOKS_DATA ===============\n",
      "\n",
      "<class 'pandas.core.frame.DataFrame'>\n",
      "RangeIndex: 212404 entries, 0 to 212403\n",
      "Data columns (total 10 columns):\n",
      " #   Column         Non-Null Count   Dtype  \n",
      "---  ------         --------------   -----  \n",
      " 0   Title          212403 non-null  object \n",
      " 1   description    143962 non-null  object \n",
      " 2   authors        180991 non-null  object \n",
      " 3   image          160329 non-null  object \n",
      " 4   previewLink    188568 non-null  object \n",
      " 5   publisher      136518 non-null  object \n",
      " 6   publishedDate  187099 non-null  object \n",
      " 7   infoLink       188568 non-null  object \n",
      " 8   categories     171205 non-null  object \n",
      " 9   ratingsCount   49752 non-null   float64\n",
      "dtypes: float64(1), object(9)\n",
      "memory usage: 16.2+ MB\n"
     ]
    }
   ],
   "source": [
    "print('================== BOOKS_DATA ===============\\n')\n",
    "books_data.info()"
   ]
  },
  {
   "cell_type": "code",
   "execution_count": 6,
   "metadata": {},
   "outputs": [
    {
     "name": "stdout",
     "output_type": "stream",
     "text": [
      "================== BOOKS_RATING ===============\n",
      "\n",
      "<class 'pandas.core.frame.DataFrame'>\n",
      "RangeIndex: 3000000 entries, 0 to 2999999\n",
      "Data columns (total 9 columns):\n",
      " #   Column       Dtype  \n",
      "---  ------       -----  \n",
      " 0   Id           object \n",
      " 1   Title        object \n",
      " 2   Price        float64\n",
      " 3   User_id      object \n",
      " 4   profileName  object \n",
      " 5   score        float64\n",
      " 6   time         int64  \n",
      " 7   summary      object \n",
      " 8   text         object \n",
      "dtypes: float64(2), int64(1), object(6)\n",
      "memory usage: 206.0+ MB\n"
     ]
    }
   ],
   "source": [
    "print('================== BOOKS_RATING ===============\\n')\n",
    "books_rating.info()"
   ]
  },
  {
   "cell_type": "markdown",
   "metadata": {},
   "source": [
    "Optamos por trabalhar com uma amostra dos dados devido a limitação de recursos do ambiente de desenvolvimento."
   ]
  },
  {
   "cell_type": "code",
   "execution_count": 10,
   "metadata": {},
   "outputs": [
    {
     "name": "stdout",
     "output_type": "stream",
     "text": [
      "Criando amostra rápida de 10% (21,240 registros)\n",
      "Amostra criada: 21,240 registros\n"
     ]
    }
   ],
   "source": [
    "books_data_rd = criar_amostra_rapida(df=books_data, percentual=10)"
   ]
  },
  {
   "cell_type": "code",
   "execution_count": 11,
   "metadata": {},
   "outputs": [
    {
     "name": "stdout",
     "output_type": "stream",
     "text": [
      "Criando amostra rápida de 10% (300,000 registros)\n",
      "Amostra criada: 300,000 registros\n"
     ]
    }
   ],
   "source": [
    "books_rating_rd = criar_amostra_rapida(df=books_rating, percentual=10)"
   ]
  },
  {
   "cell_type": "markdown",
   "metadata": {},
   "source": [
    "### Verificando tamanho das novas bases"
   ]
  },
  {
   "cell_type": "code",
   "execution_count": 13,
   "metadata": {},
   "outputs": [
    {
     "name": "stdout",
     "output_type": "stream",
     "text": [
      "================== BOOKS_DATA ===============\n",
      "Número de registros: 21240     Número de variáveis: 10\n",
      "\n",
      "================== BOOKS_RATING ===============\n",
      "Número de registros: 300000     Número de variáveis: 9\n"
     ]
    }
   ],
   "source": [
    "# Tamanho dos datasets\n",
    "print('================== BOOKS_DATA ===============')\n",
    "print(f'Número de registros: {books_data_rd.shape[0]}     Número de variáveis: {books_data_rd.shape[1]}')\n",
    "print('\\n================== BOOKS_RATING ===============')\n",
    "print(f'Número de registros: {books_rating_rd.shape[0]}     Número de variáveis: {books_rating_rd.shape[1]}')"
   ]
  },
  {
   "cell_type": "code",
   "execution_count": 14,
   "metadata": {},
   "outputs": [
    {
     "name": "stdout",
     "output_type": "stream",
     "text": [
      "================== BOOKS_DATA ===============\n",
      "\n",
      "<class 'pandas.core.frame.DataFrame'>\n",
      "Index: 21240 entries, 71763 to 145907\n",
      "Data columns (total 10 columns):\n",
      " #   Column         Non-Null Count  Dtype  \n",
      "---  ------         --------------  -----  \n",
      " 0   Title          21240 non-null  object \n",
      " 1   description    14408 non-null  object \n",
      " 2   authors        18071 non-null  object \n",
      " 3   image          16034 non-null  object \n",
      " 4   previewLink    18843 non-null  object \n",
      " 5   publisher      13684 non-null  object \n",
      " 6   publishedDate  18699 non-null  object \n",
      " 7   infoLink       18843 non-null  object \n",
      " 8   categories     17100 non-null  object \n",
      " 9   ratingsCount   5008 non-null   float64\n",
      "dtypes: float64(1), object(9)\n",
      "memory usage: 1.8+ MB\n"
     ]
    }
   ],
   "source": [
    "print('================== BOOKS_DATA ===============\\n')\n",
    "books_data_rd.info()"
   ]
  },
  {
   "cell_type": "code",
   "execution_count": 15,
   "metadata": {},
   "outputs": [
    {
     "name": "stdout",
     "output_type": "stream",
     "text": [
      "================== BOOKS_RATING ===============\n",
      "\n",
      "<class 'pandas.core.frame.DataFrame'>\n",
      "Index: 300000 entries, 2945667 to 321276\n",
      "Data columns (total 9 columns):\n",
      " #   Column       Non-Null Count   Dtype  \n",
      "---  ------       --------------   -----  \n",
      " 0   Id           300000 non-null  object \n",
      " 1   Title        299977 non-null  object \n",
      " 2   Price        47902 non-null   float64\n",
      " 3   User_id      243917 non-null  object \n",
      " 4   profileName  243902 non-null  object \n",
      " 5   score        300000 non-null  float64\n",
      " 6   time         300000 non-null  int64  \n",
      " 7   summary      299965 non-null  object \n",
      " 8   text         300000 non-null  object \n",
      "dtypes: float64(2), int64(1), object(6)\n",
      "memory usage: 22.9+ MB\n"
     ]
    }
   ],
   "source": [
    "print('================== BOOKS_RATING ===============\\n')\n",
    "books_rating_rd.info()"
   ]
  },
  {
   "cell_type": "code",
   "execution_count": 16,
   "metadata": {},
   "outputs": [
    {
     "name": "stdout",
     "output_type": "stream",
     "text": [
      "BOOKS_DATA: 0 registros duplicados\n",
      "BOOKS_RATING: 252 registros duplicados\n"
     ]
    }
   ],
   "source": [
    "# Verificar duplicatas\n",
    "check_duplicates(books_data_rd, books_rating_rd)"
   ]
  },
  {
   "cell_type": "code",
   "execution_count": 17,
   "metadata": {},
   "outputs": [
    {
     "name": "stdout",
     "output_type": "stream",
     "text": [
      "BOOKS_DATA: 0 linhas (registros) em branco\n",
      "BOOKS_RATING: 0 linhas (registros) em branco\n"
     ]
    }
   ],
   "source": [
    "# Verificar registros vazios\n",
    "check_empty_records(books_data_rd, books_rating_rd)"
   ]
  },
  {
   "cell_type": "markdown",
   "metadata": {},
   "source": [
    "## Análise de Dados Faltantes"
   ]
  },
  {
   "cell_type": "markdown",
   "metadata": {},
   "source": [
    "### Análise Numérica - books_data"
   ]
  },
  {
   "cell_type": "code",
   "execution_count": 18,
   "metadata": {},
   "outputs": [
    {
     "name": "stdout",
     "output_type": "stream",
     "text": [
      "\n",
      "=== ANÁLISE DE DADOS FALTANTES - BOOKS_DATA ===\n",
      "               Dados faltantes  % Dados faltantes\n",
      "ratingsCount            162652              76.58\n",
      "publisher                75886              35.73\n",
      "description              68442              32.22\n",
      "image                    52075              24.52\n",
      "categories               41199              19.40\n",
      "authors                  31413              14.79\n",
      "publishedDate            25305              11.91\n",
      "previewLink              23836              11.22\n",
      "infoLink                 23836              11.22\n",
      "Title                        1               0.00\n"
     ]
    }
   ],
   "source": [
    "def analisar_dados_faltantes(df, nome_dataset):\n",
    "    \"\"\"\n",
    "    Calcula a quantidade e o percentual de dados faltantes em um DataFrame.\n",
    "    \"\"\"\n",
    "    missing_data = df.isnull().sum()\n",
    "    missing_percent = (missing_data / len(df)) * 100\n",
    "    \n",
    "    missing_df = pd.DataFrame({\n",
    "        'Dados faltantes': missing_data,\n",
    "        '% Dados faltantes': missing_percent.round(2)\n",
    "    })\n",
    "    \n",
    "    missing_df_sorted = missing_df.sort_values('% Dados faltantes', ascending=False)\n",
    "    \n",
    "    print(f\"\\n=== ANÁLISE DE DADOS FALTANTES - {nome_dataset} ===\")\n",
    "    return missing_df_sorted\n",
    "    \n",
    "\n",
    "bd = analisar_dados_faltantes(books_data, \"BOOKS_DATA\")\n",
    "print(bd)"
   ]
  },
  {
   "cell_type": "markdown",
   "metadata": {},
   "source": [
    "### Análise Numérica - books_rating"
   ]
  },
  {
   "cell_type": "code",
   "execution_count": 19,
   "metadata": {},
   "outputs": [
    {
     "name": "stdout",
     "output_type": "stream",
     "text": [
      "\n",
      "=== ANÁLISE DE DADOS FALTANTES - BOOKS_RATING ===\n",
      "             Dados faltantes  % Dados faltantes\n",
      "Price                2518829              83.96\n",
      "profileName           561905              18.73\n",
      "User_id               561787              18.73\n",
      "summary                  407               0.01\n",
      "Title                    208               0.01\n",
      "Id                         0               0.00\n",
      "score                      0               0.00\n",
      "time                       0               0.00\n",
      "text                       8               0.00\n"
     ]
    }
   ],
   "source": [
    "# Analisar books_rating\n",
    "br = analisar_dados_faltantes(books_rating, \"BOOKS_RATING\")\n",
    "print(br)"
   ]
  },
  {
   "cell_type": "markdown",
   "metadata": {},
   "source": [
    "### Análise Gráfica - books_data"
   ]
  },
  {
   "cell_type": "code",
   "execution_count": 20,
   "metadata": {},
   "outputs": [
    {
     "data": {
      "image/png": "[encoded data removed]",
      "text/plain": [
       "<Figure size 1000x600 with 1 Axes>"
      ]
     },
     "metadata": {},
     "output_type": "display_data"
    }
   ],
   "source": [
    "def cria_grafico_mv(variavel, nome_variavel):\n",
    "    \"\"\"\n",
    "    Cria um gráfico de barras para visualização da porcentagem de dados faltantes em uma variável.\n",
    "\n",
    "    Args:\n",
    "        variavel (pd.Series ou pd.DataFrame): Série ou estrutura com os valores faltantes em percentual.\n",
    "                                              Deve conter valores prontos para visualização via `sns.barplot`.\n",
    "        nome_variavel (str): Nome da variável que será exibido no título do gráfico.\n",
    "\n",
    "    Returns:\n",
    "        None. Exibe um gráfico de barras com a distribuição de valores faltantes.\n",
    "    \"\"\"\n",
    "    plt.figure(figsize=(10, 6))\n",
    "    sns.barplot(variavel)\n",
    "    plt.title(f'Valores faltantes {nome_variavel}')\n",
    "    plt.xticks(rotation=45, ha='right')\n",
    "    plt.ylabel('% Dados Faltantes')\n",
    "    plt.grid(axis='y', alpha=0.3, linestyle='--')\n",
    "    plt.style.use('seaborn-v0_8-whitegrid')\n",
    "    plt.show()\n",
    "\n",
    "cria_grafico_mv(bd['% Dados faltantes'], 'books_data_rd')"
   ]
  },
  {
   "cell_type": "markdown",
   "metadata": {},
   "source": [
    "### Análise Gráfica - books_rating"
   ]
  },
  {
   "cell_type": "code",
   "execution_count": 21,
   "metadata": {},
   "outputs": [
    {
     "data": {
      "image/png": "[encoded data removed]",
      "text/plain": [
       "<Figure size 1000x600 with 1 Axes>"
      ]
     },
     "metadata": {},
     "output_type": "display_data"
    }
   ],
   "source": [
    "cria_grafico_mv(br['% Dados faltantes'], 'books_rating_rd')"
   ]
  },
  {
   "cell_type": "markdown",
   "metadata": {},
   "source": [
    "## Limpeza e Normalização"
   ]
  },
  {
   "cell_type": "code",
   "execution_count": 22,
   "metadata": {},
   "outputs": [
    {
     "name": "stdout",
     "output_type": "stream",
     "text": [
      "Iniciando limpeza e normalização do dataset books_data...\n",
      "Duplicatas removidas: 0\n",
      "Normalizando títulos...\n",
      "Normalizando autores...\n",
      "Normalizando editoras...\n",
      "Normalizando categorias...\n",
      "Padronizando datas...\n",
      "Removendo duplicatas por similaridade TF-IDF em títulos...\n",
      "Detectando duplicatas em 'Title_padrao' usando TF-IDF (threshold=0.9)...\n",
      "Detectadas 4990 duplicatas potenciais.\n",
      "Removidos 3538 registros duplicados.\n",
      "Removendo duplicatas por similaridade TF-IDF em autores...\n",
      "Detectando duplicatas em 'authors_padrao' usando TF-IDF (threshold=0.95)...\n",
      "Detectadas 6863 duplicatas potenciais.\n",
      "Removidos 4774 registros duplicados.\n",
      "Removendo duplicatas exatas por título+autor...\n",
      "AVISO: 6 duplicatas registradas em: ../data/logs/duplicatas_books_data.csv\n",
      "Limpeza e normalização concluída!\n",
      "\n",
      "Relatório final de dados faltantes:\n",
      "   Title_padrao: 0 (0.0%) faltantes\n",
      "   authors_padrao: 2,292 (17.7%) faltantes\n",
      "   publisher_padrao: 4,082 (31.6%) faltantes\n",
      "   categories_padrao: 2,386 (18.5%) faltantes\n",
      "   publishedDate_padrao: 6,833 (52.9%) faltantes\n",
      "Iniciando limpeza do dataset books_rating...\n",
      "Duplicatas removidas: 252\n",
      "Limpeza do books_rating concluída!\n"
     ]
    }
   ],
   "source": [
    "# Aplicar limpeza e normalização\n",
    "books_data_clean = limpar_e_normalizar_books_data(books_data_rd)\n",
    "books_rating_clean = limpar_books_rating(books_rating_rd)"
   ]
  },
  {
   "cell_type": "markdown",
   "metadata": {},
   "source": [
    "## Análise Univariada - books_data"
   ]
  },
  {
   "cell_type": "markdown",
   "metadata": {},
   "source": [
    "### Variável Title"
   ]
  },
  {
   "cell_type": "code",
   "execution_count": 23,
   "metadata": {},
   "outputs": [
    {
     "name": "stdout",
     "output_type": "stream",
     "text": [
      "=== ANÁLISE DE TÍTULOS ===\n",
      "Número total de títulos: 12922\n",
      "Títulos únicos: 12922\n",
      "Títulos duplicados: 0\n",
      "\n",
      "Top 10 títulos mais frequentes:\n",
      "Title\n",
      "License to Laugh                                                       1\n",
      "Motown and Didi (Polk Street Special)                                  1\n",
      "The FBI-KGB War: A Special Agent's Story                               1\n",
      "Captain Cook's World: Maps of the Life and Voyages of James Cook RN    1\n",
      "Mary Magdalene: A Biography                                            1\n",
      "50 Essential Things to Do when the Doctor Says It's Cancer (Plume)     1\n",
      "Drums Along the Mohawk                                                 1\n",
      "DK Readers: Movie Magic (Level 3: Reading Alone)                       1\n",
      "The Center of the Cyclone: an Autobiography of Inner Space             1\n",
      "Conjectures and Refutations: The Growth of Scientific Knowledge        1\n",
      "Name: count, dtype: int64\n"
     ]
    }
   ],
   "source": [
    "# Análise de títulos\n",
    "print(\"=== ANÁLISE DE TÍTULOS ===\")\n",
    "print(f\"Número total de títulos: {len(books_data_clean['Title'])}\")\n",
    "print(f\"Títulos únicos: {books_data_clean['Title'].nunique()}\")\n",
    "print(f\"Títulos duplicados: {books_data_clean['Title'].duplicated().sum()}\")\n",
    "\n",
    "print(\"\\nTop 10 títulos mais frequentes:\")\n",
    "print(books_data_clean['Title'].value_counts().head(10))"
   ]
  },
  {
   "cell_type": "markdown",
   "metadata": {},
   "source": [
    "### Variável Title_padrao"
   ]
  },
  {
   "cell_type": "code",
   "execution_count": 24,
   "metadata": {},
   "outputs": [
    {
     "name": "stdout",
     "output_type": "stream",
     "text": [
      "=== ANÁLISE DE TÍTULOS PADRONIZADOS ===\n",
      "Títulos padronizados únicos: 12917\n",
      "Títulos padronizados duplicados: 5\n",
      "\n",
      "Top 10 títulos padronizados mais frequentes:\n",
      "Title_padrao\n",
      "Auntie Mame                                                            2\n",
      "The three royal monkeys,                                               2\n",
      "Flame and Shadow                                                       2\n",
      "The spell of the Yukon                                                 2\n",
      "Hornblower and the 'Atropos'                                           2\n",
      "Captain Cook's World: Maps of the Life and Voyages of James Cook RN    1\n",
      "Mary Magdalene: A Biography                                            1\n",
      "50 Essential Things to Do when the Doctor Says It's Cancer (Plume)     1\n",
      "Drums Along the Mohawk                                                 1\n",
      "DK Readers: Movie Magic (Level 3: Reading Alone)                       1\n",
      "Name: count, dtype: int64\n"
     ]
    }
   ],
   "source": [
    "# Análise de títulos padronizados\n",
    "print(\"=== ANÁLISE DE TÍTULOS PADRONIZADOS ===\")\n",
    "print(f\"Títulos padronizados únicos: {books_data_clean['Title_padrao'].nunique()}\")\n",
    "print(f\"Títulos padronizados duplicados: {books_data_clean['Title_padrao'].duplicated().sum()}\")\n",
    "\n",
    "print(\"\\nTop 10 títulos padronizados mais frequentes:\")\n",
    "print(books_data_clean['Title_padrao'].value_counts().head(10))"
   ]
  },
  {
   "cell_type": "markdown",
   "metadata": {},
   "source": [
    "### Variável authors_padrao"
   ]
  },
  {
   "cell_type": "code",
   "execution_count": 25,
   "metadata": {},
   "outputs": [
    {
     "name": "stdout",
     "output_type": "stream",
     "text": [
      "=== ANÁLISE DE AUTORES ===\n",
      "Autores únicos: 10289\n",
      "Registros sem autor: 2292\n",
      "\n",
      "Top 10 autores mais prolíficos:\n",
      "authors_padrao\n",
      "library of congress. copyright office    9\n",
      "carolyn keene                            8\n",
      "rudyard kipling                          6\n",
      "george orwell                            5\n",
      "janette oke                              5\n",
      "robert louis stevenson                   5\n",
      "bertrand russell                         4\n",
      "eric newby                               4\n",
      "edith wharton                            4\n",
      "edgar rice burroughs                     4\n",
      "Name: count, dtype: int64\n"
     ]
    }
   ],
   "source": [
    "# Análise de autores\n",
    "print(\"=== ANÁLISE DE AUTORES ===\")\n",
    "print(f\"Autores únicos: {books_data_clean['authors_padrao'].nunique()}\")\n",
    "print(f\"Registros sem autor: {books_data_clean['authors_padrao'].isnull().sum()}\")\n",
    "\n",
    "print(\"\\nTop 10 autores mais prolíficos:\")\n",
    "print(books_data_clean['authors_padrao'].value_counts().head(10))"
   ]
  },
  {
   "cell_type": "markdown",
   "metadata": {},
   "source": [
    "### Variável publisher_padrao"
   ]
  },
  {
   "cell_type": "code",
   "execution_count": 26,
   "metadata": {},
   "outputs": [
    {
     "name": "stdout",
     "output_type": "stream",
     "text": [
      "=== ANÁLISE DE EDITORAS ===\n",
      "Editoras únicas: 3046\n",
      "Registros sem editora: 4082\n",
      "\n",
      "Top 10 editoras com mais livros:\n",
      "publisher_padrao\n",
      "simon and schuster            187\n",
      "penguin                       170\n",
      "routledge                     127\n",
      "john wiley sons               120\n",
      "harper collins                119\n",
      "cambridge university press     95\n",
      "macmillan                      85\n",
      "houghton mifflin harcourt      81\n",
      "vintage                        74\n",
      "courier corporation            64\n",
      "Name: count, dtype: int64\n"
     ]
    },
    {
     "data": {
      "image/png": "[encoded data removed]",
      "text/plain": [
       "<Figure size 1200x600 with 1 Axes>"
      ]
     },
     "metadata": {},
     "output_type": "display_data"
    }
   ],
   "source": [
    "# Análise de editoras\n",
    "print(\"=== ANÁLISE DE EDITORAS ===\")\n",
    "print(f\"Editoras únicas: {books_data_clean['publisher_padrao'].nunique()}\")\n",
    "print(f\"Registros sem editora: {books_data_clean['publisher_padrao'].isnull().sum()}\")\n",
    "\n",
    "print(\"\\nTop 10 editoras com mais livros:\")\n",
    "editoras_count = books_data_clean['publisher_padrao'].value_counts()\n",
    "print(editoras_count.head(10))\n",
    "\n",
    "# Gráfico das top editoras\n",
    "plt.figure(figsize=(12, 6))\n",
    "top_editoras = editoras_count.head(15)\n",
    "plt.barh(range(len(top_editoras)), top_editoras.values)\n",
    "plt.yticks(range(len(top_editoras)), top_editoras.index)\n",
    "plt.xlabel('Número de livros')\n",
    "plt.title('Top 15 Editoras por Número de Livros')\n",
    "plt.gca().invert_yaxis()\n",
    "plt.tight_layout()\n",
    "plt.show()"
   ]
  },
  {
   "cell_type": "markdown",
   "metadata": {},
   "source": [
    "### Variável categories_padrao"
   ]
  },
  {
   "cell_type": "code",
   "execution_count": 27,
   "metadata": {},
   "outputs": [
    {
     "name": "stdout",
     "output_type": "stream",
     "text": [
      "=== ANÁLISE DE CATEGORIAS ===\n",
      "Categorias únicas: 1465\n",
      "Registros sem categoria: 2386\n",
      "\n",
      "Top 10 categorias mais frequentes:\n",
      "categories_padrao\n",
      "fiction                      1342\n",
      "history                       618\n",
      "religion                      576\n",
      "juvenile fiction              408\n",
      "biography & autobiography     398\n",
      "business & economics          354\n",
      "computers                     316\n",
      "social science                266\n",
      "juvenile nonfiction           217\n",
      "education                     184\n",
      "Name: count, dtype: int64\n"
     ]
    },
    {
     "data": {
      "image/png": "[encoded data removed]",
      "text/plain": [
       "<Figure size 1200x800 with 1 Axes>"
      ]
     },
     "metadata": {},
     "output_type": "display_data"
    }
   ],
   "source": [
    "# Análise de categorias\n",
    "print(\"=== ANÁLISE DE CATEGORIAS ===\")\n",
    "print(f\"Categorias únicas: {books_data_clean['categories_padrao'].nunique()}\")\n",
    "print(f\"Registros sem categoria: {books_data_clean['categories_padrao'].isnull().sum()}\")\n",
    "\n",
    "print(\"\\nTop 10 categorias mais frequentes:\")\n",
    "categorias_count = books_data_clean['categories_padrao'].value_counts()\n",
    "print(categorias_count.head(10))\n",
    "\n",
    "# Gráfico das top categorias\n",
    "plt.figure(figsize=(12, 8))\n",
    "top_categorias = categorias_count.head(15)\n",
    "plt.barh(range(len(top_categorias)), top_categorias.values)\n",
    "plt.yticks(range(len(top_categorias)), top_categorias.index)\n",
    "plt.xlabel('Número de livros')\n",
    "plt.title('Top 15 Categorias por Número de Livros')\n",
    "plt.gca().invert_yaxis()\n",
    "plt.tight_layout()\n",
    "plt.show()"
   ]
  },
  {
   "cell_type": "markdown",
   "metadata": {},
   "source": [
    "### Variável publishedDate_padrao"
   ]
  },
  {
   "cell_type": "code",
   "execution_count": 28,
   "metadata": {},
   "outputs": [
    {
     "name": "stdout",
     "output_type": "stream",
     "text": [
      "=== ANÁLISE DE ANOS DE PUBLICAÇÃO ===\n",
      "Registros com ano: 6089\n",
      "Registros sem ano: 6833\n",
      "\n",
      "Estatísticas dos anos:\n",
      "count    6089.000000\n",
      "mean     1987.738545\n",
      "std        27.749116\n",
      "min      1680.000000\n",
      "25%      1985.000000\n",
      "50%      1997.000000\n",
      "75%      2002.000000\n",
      "max      2022.000000\n",
      "Name: publishedDate_padrao, dtype: float64\n",
      "\n",
      "Top 10 anos com mais publicações:\n",
      "publishedDate_padrao\n",
      "2000.0    318\n",
      "1999.0    304\n",
      "2004.0    293\n",
      "2002.0    286\n",
      "1998.0    278\n",
      "2003.0    272\n",
      "2001.0    253\n",
      "1997.0    252\n",
      "2005.0    242\n",
      "1996.0    202\n",
      "Name: count, dtype: int64\n"
     ]
    }
   ],
   "source": [
    "# Análise de anos de publicação\n",
    "print(\"=== ANÁLISE DE ANOS DE PUBLICAÇÃO ===\")\n",
    "print(f\"Registros com ano: {books_data_clean['publishedDate_padrao'].notna().sum()}\")\n",
    "print(f\"Registros sem ano: {books_data_clean['publishedDate_padrao'].isnull().sum()}\")\n",
    "\n",
    "# Estatísticas descritivas\n",
    "print(\"\\nEstatísticas dos anos:\")\n",
    "print(books_data_clean['publishedDate_padrao'].describe())\n",
    "\n",
    "print(\"\\nTop 10 anos com mais publicações:\")\n",
    "anos_count = books_data_clean['publishedDate_padrao'].value_counts()\n",
    "print(anos_count.head(10))"
   ]
  },
  {
   "cell_type": "code",
   "execution_count": 29,
   "metadata": {},
   "outputs": [
    {
     "data": {
      "image/png": "[encoded data removed]",
      "text/plain": [
       "<Figure size 1500x600 with 1 Axes>"
      ]
     },
     "metadata": {},
     "output_type": "display_data"
    }
   ],
   "source": [
    "# Gráfico de distribuição temporal\n",
    "plt.figure(figsize=(15, 6))\n",
    "\n",
    "# Filtrar anos razoáveis (1800-2024)\n",
    "anos_validos = books_data_clean[\n",
    "    (books_data_clean['publishedDate_padrao'] >= 1800) & \n",
    "    (books_data_clean['publishedDate_padrao'] <= 2024)\n",
    "]['publishedDate_padrao']\n",
    "\n",
    "plt.hist(anos_validos, bins=50, alpha=0.7, edgecolor='black')\n",
    "plt.xlabel('Ano de Publicação')\n",
    "plt.ylabel('Número de Livros')\n",
    "plt.title('Distribuição de Livros por Ano de Publicação (1800-2024)')\n",
    "plt.grid(axis='y', alpha=0.3)\n",
    "plt.tight_layout()\n",
    "plt.show()"
   ]
  },
  {
   "cell_type": "markdown",
   "metadata": {},
   "source": [
    "## Salvar Dados Processados"
   ]
  },
  {
   "cell_type": "code",
   "execution_count": 30,
   "metadata": {},
   "outputs": [
    {
     "name": "stdout",
     "output_type": "stream",
     "text": [
      "Datasets processados salvos em ../data/processed/\n",
      "books_data_clean: (12922, 15)\n",
      "books_rating_clean: (299748, 10)\n"
     ]
    }
   ],
   "source": [
    "# Salvar datasets limpos\n",
    "books_data_clean.to_parquet('../data/processed/books_data_processed.parquet', index=False)\n",
    "books_rating_clean.to_parquet('../data/processed/books_rating_processed.parquet', index=False)\n",
    "\n",
    "print(\"Datasets processados salvos em ../data/processed/\")\n",
    "print(f\"books_data_clean: {books_data_clean.shape}\")\n",
    "print(f\"books_rating_clean: {books_rating_clean.shape}\")"
   ]
  }
 ],
 "metadata": {
  "kernelspec": {
   "display_name": "a3data-py3.12",
   "language": "python",
   "name": "python3"
  },
  "language_info": {
   "codemirror_mode": {
    "name": "ipython",
    "version": 3
   },
   "file_extension": ".py",
   "mimetype": "text/x-python",
   "name": "python",
   "nbconvert_exporter": "python",
   "pygments_lexer": "ipython3",
   "version": "3.12.10"
  }
 },
 "nbformat": 4,
 "nbformat_minor": 4
}
