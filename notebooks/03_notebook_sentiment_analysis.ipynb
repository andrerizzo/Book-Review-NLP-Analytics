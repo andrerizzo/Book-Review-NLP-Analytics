{
 "cells": [
  {
   "cell_type": "markdown",
   "metadata": {},
   "source": [
    "# Análise de Sentimentos - Books Reviews\n",
    "Notebook para análise de sentimentos dos reviews utilizando VADER"
   ]
  },
  {
   "cell_type": "markdown",
   "metadata": {},
   "source": [
    "## Carregar Bibliotecas"
   ]
  },
  {
   "cell_type": "code",
   "execution_count": 1,
   "metadata": {},
   "outputs": [],
   "source": [
    "import pandas as pd\n",
    "import numpy as np\n",
    "import matplotlib.pyplot as plt\n",
    "import seaborn as sns\n",
    "import sys\n",
    "import os\n",
    "\n",
    "from vaderSentiment.vaderSentiment import SentimentIntensityAnalyzer \n",
    "from tqdm import tqdm\n",
    "from collections import Counter\n",
    "\n",
    "# Configurações de visualização\n",
    "plt.style.use('default')\n",
    "sns.set_palette(\"husl\")\n",
    "\n",
    "# Configurar pandas para exibir mais colunas\n",
    "pd.set_option('display.max_columns', None)\n",
    "pd.set_option('display.width', None)\n",
    "pd.set_option('display.max_colwidth', 50)"
   ]
  },
  {
   "cell_type": "markdown",
   "metadata": {},
   "source": [
    "## Carregar Datasets"
   ]
  },
  {
   "cell_type": "code",
   "execution_count": 2,
   "metadata": {},
   "outputs": [
    {
     "name": "stdout",
     "output_type": "stream",
     "text": [
      "Datasets carregados:\n",
      "   books_data: (12922, 15)\n",
      "   books_rating: (299748, 10)\n",
      "\n",
      "Colunas em books_rating:\n",
      "['Id', 'Title', 'Price', 'User_id', 'profileName', 'score', 'time', 'summary', 'text', 'title_norm']\n",
      "\n",
      "Info sobre reviews:\n",
      "   Reviews com texto: 299,748\n",
      "   Reviews sem texto: 0\n",
      "   Percentual com texto: 100.0%\n"
     ]
    }
   ],
   "source": [
    "# Carregar datasets processados\n",
    "books_data = pd.read_parquet('../data/processed/books_data_processed.parquet')\n",
    "books_rating = pd.read_parquet('../data/processed/books_rating_processed.parquet')\n",
    "\n",
    "print(\"Datasets carregados:\")\n",
    "print(f\"   books_data: {books_data.shape}\")\n",
    "print(f\"   books_rating: {books_rating.shape}\")\n",
    "\n",
    "# Verificar estrutura do dataset de ratings\n",
    "print(\"\\nColunas em books_rating:\")\n",
    "print(books_rating.columns.tolist())\n",
    "\n",
    "print(\"\\nInfo sobre reviews:\")\n",
    "print(f\"   Reviews com texto: {books_rating['text'].notna().sum():,}\")\n",
    "print(f\"   Reviews sem texto: {books_rating['text'].isna().sum():,}\")\n",
    "print(f\"   Percentual com texto: {(books_rating['text'].notna().sum() / len(books_rating)) * 100:.1f}%\")"
   ]
  },
  {
   "cell_type": "markdown",
   "metadata": {},
   "source": [
    "## Função de Análise de Sentimentos"
   ]
  },
  {
   "cell_type": "code",
   "execution_count": 3,
   "metadata": {},
   "outputs": [],
   "source": [
    "def analise_de_sentimentos(books_df, frac=None, n=None, random_state=42):\n",
    "    \"\"\"\n",
    "    Análise de sentimentos com VADER\n",
    "    \n",
    "    Parâmetros:\n",
    "        - books_df: DataFrame original\n",
    "        - frac: proporção da amostra (ex: 0.1 para 10%)\n",
    "        - n: número absoluto de registros (ex: 1000)\n",
    "        - random_state: para reprodutibilidade\n",
    "        \n",
    "    Retorna:\n",
    "        - DataFrame com coluna 'sentimento' na amostra analisada\n",
    "    \"\"\"\n",
    "    \n",
    "    # Seleção da amostra\n",
    "    if frac:\n",
    "        df_temp = books_df.sample(frac=frac, random_state=random_state)\n",
    "    elif n:\n",
    "        df_temp = books_df.sample(n=n, random_state=random_state)\n",
    "    else:\n",
    "        df_temp = books_df.copy()\n",
    "        \n",
    "    analyser = SentimentIntensityAnalyzer()\n",
    "    sent_analysis = []\n",
    "    compound_scores = []\n",
    "\n",
    "    for index, row in tqdm(df_temp.iterrows(), total=len(df_temp), desc=\"Processando reviews\"):\n",
    "        \n",
    "        texto = str(row['text']).strip()\n",
    "        \n",
    "        if not texto:\n",
    "            sent_analysis.append('n/a')\n",
    "            compound_scores.append(None)\n",
    "            continue\n",
    "            \n",
    "        try:\n",
    "            vs = analyser.polarity_scores(texto)\n",
    "            compound = vs['compound']\n",
    "            \n",
    "            if compound >= 0.05:\n",
    "                label = 'positivo'\n",
    "            elif compound <= -0.05:\n",
    "                label = 'negativo'\n",
    "            else:\n",
    "                label = 'neutro'\n",
    "                \n",
    "        except Exception as e:\n",
    "            print(f\"Erro no índice {index}: {e}\")\n",
    "            label = 'erro'\n",
    "            compound = None\n",
    "            \n",
    "        sent_analysis.append(label)\n",
    "        compound_scores.append(compound)\n",
    "\n",
    "    # Atualiza o DataFrame com os resultados\n",
    "    df_temp = df_temp.copy()\n",
    "    df_temp['sentimento'] = sent_analysis\n",
    "    df_temp['compound'] = compound_scores\n",
    "\n",
    "    return df_temp"
   ]
  },
  {
   "cell_type": "markdown",
   "metadata": {},
   "source": [
    "## Teste com Amostra"
   ]
  },
  {
   "cell_type": "code",
   "execution_count": 4,
   "metadata": {},
   "outputs": [
    {
     "name": "stdout",
     "output_type": "stream",
     "text": [
      "Testando análise de sentimentos com amostra...\n"
     ]
    },
    {
     "name": "stderr",
     "output_type": "stream",
     "text": [
      "Processando reviews: 100%|██████████| 1000/1000 [00:03<00:00, 288.32it/s]"
     ]
    },
    {
     "name": "stdout",
     "output_type": "stream",
     "text": [
      "\n",
      "Distribuição de sentimentos na amostra:\n",
      "sentimento\n",
      "positivo    828\n",
      "negativo    156\n",
      "neutro       16\n",
      "Name: count, dtype: int64\n"
     ]
    },
    {
     "name": "stderr",
     "output_type": "stream",
     "text": [
      "\n"
     ]
    }
   ],
   "source": [
    "# Teste com amostra de 1000 registros\n",
    "print(\"Testando análise de sentimentos com amostra...\")\n",
    "sample_test = analise_de_sentimentos(books_rating, n=1000)\n",
    "\n",
    "# Verificar resultados\n",
    "print(\"\\nDistribuição de sentimentos na amostra:\")\n",
    "print(sample_test['sentimento'].value_counts())"
   ]
  },
  {
   "cell_type": "markdown",
   "metadata": {},
   "source": [
    "## Análise Completa"
   ]
  },
  {
   "cell_type": "code",
   "execution_count": 5,
   "metadata": {},
   "outputs": [
    {
     "name": "stdout",
     "output_type": "stream",
     "text": [
      "Executando análise de sentimentos no dataset completo...\n"
     ]
    },
    {
     "name": "stderr",
     "output_type": "stream",
     "text": [
      "Processando reviews: 100%|██████████| 299748/299748 [13:19<00:00, 374.84it/s]\n"
     ]
    },
    {
     "name": "stdout",
     "output_type": "stream",
     "text": [
      "\n",
      "Dataset final: (299748, 12)\n",
      "\n",
      "Distribuição final de sentimentos:\n",
      "sentimento\n",
      "positivo    248766\n",
      "negativo     44883\n",
      "neutro        6099\n",
      "Name: count, dtype: int64\n"
     ]
    }
   ],
   "source": [
    "# Análise de sentimentos completa\n",
    "print(\"Executando análise de sentimentos no dataset completo...\")\n",
    "books_rating_mod = analise_de_sentimentos(books_rating)\n",
    "\n",
    "print(f\"\\nDataset final: {books_rating_mod.shape}\")\n",
    "print(\"\\nDistribuição final de sentimentos:\")\n",
    "print(books_rating_mod['sentimento'].value_counts())"
   ]
  },
  {
   "cell_type": "markdown",
   "metadata": {},
   "source": [
    "## Análise dos Resultados"
   ]
  },
  {
   "cell_type": "code",
   "execution_count": 6,
   "metadata": {},
   "outputs": [
    {
     "data": {
      "image/png": "[encoded data removed]",
      "text/plain": [
       "<Figure size 1000x600 with 1 Axes>"
      ]
     },
     "metadata": {},
     "output_type": "display_data"
    },
    {
     "name": "stdout",
     "output_type": "stream",
     "text": [
      "\n",
      "Total de reviews processados: 299,748\n",
      "   positivo: 248,766 (83.0%)\n",
      "   negativo: 44,883 (15.0%)\n",
      "   neutro: 6,099 (2.0%)\n"
     ]
    }
   ],
   "source": [
    "# Gráfico de distribuição de sentimentos\n",
    "plt.figure(figsize=(10, 6))\n",
    "books_rating_mod['sentimento'].value_counts().plot(kind='bar', color=['green', 'red', 'gray', 'orange'])\n",
    "plt.title('Distribuição de Sentimentos nos Reviews')\n",
    "plt.xlabel('Sentimento')\n",
    "plt.ylabel('Número de Reviews')\n",
    "plt.xticks(rotation=45)\n",
    "plt.tight_layout()\n",
    "plt.show()\n",
    "\n",
    "# Estatísticas detalhadas\n",
    "total_reviews = len(books_rating_mod)\n",
    "print(f\"\\nTotal de reviews processados: {total_reviews:,}\")\n",
    "\n",
    "for sentimento, count in books_rating_mod['sentimento'].value_counts().items():\n",
    "    percentual = (count / total_reviews) * 100\n",
    "    print(f\"   {sentimento}: {count:,} ({percentual:.1f}%)\")"
   ]
  },
  {
   "cell_type": "markdown",
   "metadata": {},
   "source": [
    "## Correlação Rating vs Sentimento"
   ]
  },
  {
   "cell_type": "code",
   "execution_count": 8,
   "metadata": {},
   "outputs": [
    {
     "name": "stdout",
     "output_type": "stream",
     "text": [
      "Correlação Rating vs Compound Score: 0.313\n",
      "\n",
      "Tabela cruzada: Rating vs Sentimento\n",
      "sentimento  negativo  neutro  positivo\n",
      "score                                 \n",
      "1.0             9337     723      9991\n",
      "2.0             5112     439      9575\n",
      "3.0             5507     621     19090\n",
      "4.0             7781    1004     49973\n",
      "5.0            17146    3312    160137\n",
      "\n",
      "Percentuais por rating:\n",
      "sentimento  negativo  neutro  positivo\n",
      "score                                 \n",
      "1.0             46.6     3.6      49.8\n",
      "2.0             33.8     2.9      63.3\n",
      "3.0             21.8     2.5      75.7\n",
      "4.0             13.2     1.7      85.0\n",
      "5.0              9.5     1.8      88.7\n"
     ]
    }
   ],
   "source": [
    "# Analisar correlação entre rating numérico e sentimento\n",
    "sentimentos_validos = books_rating_mod[books_rating_mod['sentimento'].isin(['positivo', 'neutro', 'negativo'])]\n",
    "\n",
    "if len(sentimentos_validos) > 0:\n",
    "    # Correlação entre rating e compound score\n",
    "    correlacao = sentimentos_validos['score'].corr(sentimentos_validos['compound'])\n",
    "    print(f\"Correlação Rating vs Compound Score: {correlacao:.3f}\")\n",
    "    \n",
    "    # Tabela cruzada\n",
    "    print(\"\\nTabela cruzada: Rating vs Sentimento\")\n",
    "    tabela_cruzada = pd.crosstab(sentimentos_validos['score'], sentimentos_validos['sentimento'])\n",
    "    print(tabela_cruzada)\n",
    "    \n",
    "    # Percentuais por rating\n",
    "    print(\"\\nPercentuais por rating:\")\n",
    "    percentuais = pd.crosstab(sentimentos_validos['score'], sentimentos_validos['sentimento'], normalize='index') * 100\n",
    "    print(percentuais.round(1))"
   ]
  },
  {
   "cell_type": "markdown",
   "metadata": {},
   "source": [
    "## Salvar Datasets"
   ]
  },
  {
   "cell_type": "code",
   "execution_count": 10,
   "metadata": {},
   "outputs": [
    {
     "name": "stdout",
     "output_type": "stream",
     "text": [
      "Dataset salvo em Parquet: ../data/modified/books_rating_modified.parquet\n"
     ]
    }
   ],
   "source": [
    "# Criar diretório se não existir\n",
    "os.makedirs('../data/modified/', exist_ok=True)\n",
    "\n",
    "# Salvar em Parquet\n",
    "books_rating_mod.to_parquet('../data/modified/books_rating_modified.parquet', index=False)\n",
    "print(\"Dataset salvo em Parquet: ../data/modified/books_rating_modified.parquet\")"
   ]
  },
  {
   "cell_type": "markdown",
   "metadata": {},
   "source": [
    "## Relatório Final"
   ]
  },
  {
   "cell_type": "code",
   "execution_count": 11,
   "metadata": {},
   "outputs": [
    {
     "name": "stdout",
     "output_type": "stream",
     "text": [
      "RELATÓRIO FINAL - ANÁLISE DE SENTIMENTOS\n",
      "==================================================\n",
      "Dataset original: 299,748 reviews\n",
      "Dataset processado: 299,748 reviews\n",
      "Reviews com texto analisado: 299,748\n",
      "\n",
      "Distribuição de sentimentos:\n",
      "   positivo: 248,766 (83.0%)\n",
      "   negativo: 44,883 (15.0%)\n",
      "   neutro: 6,099 (2.0%)\n",
      "\n",
      "Estatísticas do Compound Score:\n",
      "   Média: 0.584\n",
      "   Mediana: 0.859\n",
      "   Desvio padrão: 0.569\n",
      "\n",
      "Arquivo salvo:\n",
      "   ../data/modified/books_rating_modified.parquet\n"
     ]
    }
   ],
   "source": [
    "print(\"RELATÓRIO FINAL - ANÁLISE DE SENTIMENTOS\")\n",
    "print(\"=\" * 50)\n",
    "print(f\"Dataset original: {len(books_rating):,} reviews\")\n",
    "print(f\"Dataset processado: {len(books_rating_mod):,} reviews\")\n",
    "print(f\"Reviews com texto analisado: {books_rating_mod['sentimento'].notna().sum():,}\")\n",
    "\n",
    "# Distribuição final\n",
    "print(\"\\nDistribuição de sentimentos:\")\n",
    "for sentimento, count in books_rating_mod['sentimento'].value_counts().items():\n",
    "    percentual = (count / len(books_rating_mod)) * 100\n",
    "    print(f\"   {sentimento}: {count:,} ({percentual:.1f}%)\")\n",
    "\n",
    "# Estatísticas do compound score\n",
    "compounds_validos = books_rating_mod['compound'].dropna()\n",
    "if len(compounds_validos) > 0:\n",
    "    print(\"\\nEstatísticas do Compound Score:\")\n",
    "    print(f\"   Média: {compounds_validos.mean():.3f}\")\n",
    "    print(f\"   Mediana: {compounds_validos.median():.3f}\")\n",
    "    print(f\"   Desvio padrão: {compounds_validos.std():.3f}\")\n",
    "\n",
    "print(\"\\nArquivo salvo:\")\n",
    "print(\"   ../data/modified/books_rating_modified.parquet\")"
   ]
  }
 ],
 "metadata": {
  "kernelspec": {
   "display_name": "a3data-py3.12",
   "language": "python",
   "name": "python3"
  },
  "language_info": {
   "codemirror_mode": {
    "name": "ipython",
    "version": 3
   },
   "file_extension": ".py",
   "mimetype": "text/x-python",
   "name": "python",
   "nbconvert_exporter": "python",
   "pygments_lexer": "ipython3",
   "version": "3.12.10"
  }
 },
 "nbformat": 4,
 "nbformat_minor": 4
}
